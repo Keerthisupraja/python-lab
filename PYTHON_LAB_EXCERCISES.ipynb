{
  "nbformat": 4,
  "nbformat_minor": 0,
  "metadata": {
    "colab": {
      "name": "PYTHON LAB EXCERCISES",
      "provenance": [],
      "authorship_tag": "ABX9TyNqAEvrPoKN5MOLpyyb5C9+",
      "include_colab_link": true
    },
    "kernelspec": {
      "display_name": "Python 3",
      "name": "python3"
    },
    "language_info": {
      "name": "python"
    }
  },
  "cells": [
    {
      "cell_type": "markdown",
      "metadata": {
        "id": "view-in-github",
        "colab_type": "text"
      },
      "source": [
        "<a href=\"https://colab.research.google.com/github/Keerthisupraja/python-lab/blob/main/PYTHON_LAB_EXCERCISES.ipynb\" target=\"_parent\"><img src=\"https://colab.research.google.com/assets/colab-badge.svg\" alt=\"Open In Colab\"/></a>"
      ]
    },
    {
      "cell_type": "markdown",
      "metadata": {
        "id": "KKA0w-ydPDx9"
      },
      "source": [
        "**Name**:**k.keerthi** **supraja**\n",
        "\n",
        "**Reg no:19A21A0528**\n",
        "\n",
        "**Section:CSE-A**"
      ]
    },
    {
      "cell_type": "markdown",
      "metadata": {
        "id": "9TIiK98wSDO1"
      },
      "source": [
        "# EXCERCISE-1\n",
        "\n",
        "A.Running instructions"
      ]
    },
    {
      "cell_type": "markdown",
      "metadata": {
        "id": "fXfwS2A7o1YS"
      },
      "source": [
        "AIM: a)Running instructions in interactive interpreter and a python script DESCRIPTION: Python is a high-level, interpreted, interactive and object-oriented scripting language. Python is designed to be highly readable. It uses English keywords frequently where as other languages use punctuation, and it has fewer syntactical constructions than other languages. Python is Interpreted\n",
        "\n",
        "Python is Interactive Python is Object-Oriented Python is a Beginner's Language Python Programming Running Python Scripts Running Python in THREE ways: a) Running Python Interpreter b) Running Python Scripts in IDLE c) Running python scripts in Command Prompt a) Running Python Interpreter: Python comes with an interactive interpreter. When you type python in your shell or command prompt, the python interpreter becomes active with a >>> prompt and waits for your commands b) Running Python Scripts in IDLE: . Go to File menu click on New File (CTRL+N) and write the code and save first.py c) Running python scripts in Command Prompt: ** **bold text · Before going to run we have to check the PATH in environment variables."
      ]
    },
    {
      "cell_type": "code",
      "metadata": {
        "colab": {
          "background_save": true,
          "base_uri": "https://localhost:8080/"
        },
        "id": "ER3TilbnPSPO",
        "outputId": "29c56919-a7d6-4a56-a82a-5139bc29a12f"
      },
      "source": [
        "print(\"WELCOME TO PYTHON\")\n",
        "a=10\n",
        "b=20\n",
        "print(a+b)\n",
        "print(\"thank you\")"
      ],
      "execution_count": null,
      "outputs": [
        {
          "output_type": "stream",
          "text": [
            "WELCOME TO PYTHON\n",
            "30\n",
            "thank you\n"
          ],
          "name": "stdout"
        }
      ]
    },
    {
      "cell_type": "markdown",
      "metadata": {
        "id": "6WW0vRvIpDeG"
      },
      "source": [
        "DESCRIPTION: Indentation Python does not support braces to indicate blocks of code for class and function definitions or flow control. Blocks of code are denoted by line indentation. All the continuous lines indented with same number of spaces would form a block. Python strictly follow indentation rules to indicate the blocks.\n",
        "\n"
      ]
    },
    {
      "cell_type": "code",
      "metadata": {
        "colab": {
          "base_uri": "https://localhost:8080/",
          "height": 129
        },
        "id": "OTdekwuvQDpC",
        "outputId": "228754a7-abe8-4822-e93e-58fd4a911444"
      },
      "source": [
        "a=10\n",
        "b=20\n",
        "if a>b:\n",
        "print(\"a\")\n",
        "else:\n",
        "print(\"b\")\n",
        "\n",
        "#correction\n",
        "#if a>b:\n",
        "#  print(\"a\")\n",
        "#else:\n",
        "#  print(\"b\")"
      ],
      "execution_count": null,
      "outputs": [
        {
          "output_type": "error",
          "ename": "IndentationError",
          "evalue": "ignored",
          "traceback": [
            "\u001b[0;36m  File \u001b[0;32m\"<ipython-input-2-fcf5912273ad>\"\u001b[0;36m, line \u001b[0;32m4\u001b[0m\n\u001b[0;31m    print(\"a\")\u001b[0m\n\u001b[0m        ^\u001b[0m\n\u001b[0;31mIndentationError\u001b[0m\u001b[0;31m:\u001b[0m expected an indented block\n"
          ]
        }
      ]
    },
    {
      "cell_type": "markdown",
      "metadata": {
        "id": "LjwcunijQhKU"
      },
      "source": [
        "#                                    EXCERCISE-2\n",
        "\n",
        "A.write a program to copute the distance between two points by taking input from the user."
      ]
    },
    {
      "cell_type": "markdown",
      "metadata": {
        "id": "4ybDX3HNpLOa"
      },
      "source": [
        "DESCRIPTION:\n",
        "\n",
        "Taking Input From the User: A function is defined as a block of organized, reusable code used to perform a single, related action. Python has many built-in functions; you can also create your own. Python has an input function which lets you ask a user for some text input. You call this function to tell the program to stop and wait for the user to key in the data. In Python 2, you have a built-in function raw_input(), whereas in Python 3, you have input(). The program will resume once the user presses the ENTER or RETURN key. Input Function input(prompt=None,/). Read a string from standard input. The trailing newline is stripped. The prompt string, if given, is printed to standard output without a trailing newline before reading input. If the user hits EOF (*nix: Ctrl-D, Windows: Ctrl Z+Return), raise EOFError."
      ]
    },
    {
      "cell_type": "code",
      "metadata": {
        "colab": {
          "base_uri": "https://localhost:8080/"
        },
        "id": "9a47XX2NRMCK",
        "outputId": "158fdfe7-b3d7-42d7-ca9d-a343c25b8fee"
      },
      "source": [
        "import math\n",
        "a=int(input(\"Enter value of a=\"))\n",
        "b=int(input(\"Enter value of b=\"))\n",
        "c=int(input(\"Enter value of c=\"))\n",
        "d=int(input(\"Enter value of d=\"))\n",
        "distance=math.sqrt(((b-a)**2)+((d-c)**2))\n",
        "print(\"Distance=\",distance)"
      ],
      "execution_count": null,
      "outputs": [
        {
          "output_type": "stream",
          "text": [
            "Enter value of a=3\n",
            "Enter value of b=7\n",
            "Enter value of c=4\n",
            "Enter value of d=10\n",
            "Distance= 7.211102550927978\n"
          ],
          "name": "stdout"
        }
      ]
    },
    {
      "cell_type": "markdown",
      "metadata": {
        "id": "943AorA6ReEp"
      },
      "source": [
        "###                                  EXCERCISE-3\n",
        "A.write a program for checking whether the given number is even or not"
      ]
    },
    {
      "cell_type": "markdown",
      "metadata": {
        "id": "p8CXPWSYpWDY"
      },
      "source": [
        "DESCRIPTION: if..else Statement When there is an alternate operation in control flow, use an else statement alongside with if statement"
      ]
    },
    {
      "cell_type": "code",
      "metadata": {
        "colab": {
          "base_uri": "https://localhost:8080/"
        },
        "id": "HqpiVfAVR1B5",
        "outputId": "3664c673-7c9a-491d-be16-7542120800b7"
      },
      "source": [
        "num=int(input(\"Enter a number:\"))\n",
        "if (num%2!=0):\n",
        "  print(num,\"is an odd number\")\n",
        "else:\n",
        "  print(num,\"is an even number\")"
      ],
      "execution_count": null,
      "outputs": [
        {
          "output_type": "stream",
          "text": [
            "Enter a number:10\n",
            "10 is an even number\n"
          ],
          "name": "stdout"
        }
      ]
    },
    {
      "cell_type": "markdown",
      "metadata": {
        "id": "U7BCrchnSANW"
      },
      "source": [
        "B.using for loop write a program that prints out the decimal equivalents to1/2,1/3,1/4.....1/10."
      ]
    },
    {
      "cell_type": "markdown",
      "metadata": {
        "id": "WQSL-G0updis"
      },
      "source": [
        " DESCRIPTION For Loop: For loops can iterate over a sequence of numbers using the \"range\" and \"xrange\" functions. The difference between range and xrange is that the range function returns a new list with numbers of that specified range, whereas xrange returns an iterator, which is more eficient. The general format is for x in range(start,stop,step): statements"
      ]
    },
    {
      "cell_type": "code",
      "metadata": {
        "colab": {
          "base_uri": "https://localhost:8080/"
        },
        "id": "Ke4SV1sdSV4i",
        "outputId": "64366dfb-96a2-464f-e81b-d072b0d71d10"
      },
      "source": [
        "n=int(input(\"enter value of n=\"))\n",
        "for i in range(2,n):\n",
        "\td=1/i\n",
        "\tprint(\"1/\"+str(i)+\"=\",d)"
      ],
      "execution_count": null,
      "outputs": [
        {
          "output_type": "stream",
          "text": [
            "enter value of n=10\n",
            "1/2= 0.5\n",
            "1/3= 0.3333333333333333\n",
            "1/4= 0.25\n",
            "1/5= 0.2\n",
            "1/6= 0.16666666666666666\n",
            "1/7= 0.14285714285714285\n",
            "1/8= 0.125\n",
            "1/9= 0.1111111111111111\n"
          ],
          "name": "stdout"
        }
      ]
    },
    {
      "cell_type": "markdown",
      "metadata": {
        "id": "o56EDU_qSjFs"
      },
      "source": [
        "C.write a program using for loop that loops over a sequence"
      ]
    },
    {
      "cell_type": "markdown",
      "metadata": {
        "id": "QHR5rDQHpgsd"
      },
      "source": [
        "DESCRIPTION: For Loop: For loops can iterate over a sequence of numbers using the \"range\" and \"xrange\" functions. The difference between range and xrange is that the range function returns a new list with numbers of that specified range, whereas xrange returns an iterator, which is more eficient. The general format is for x in range(start,stop,step): statements"
      ]
    },
    {
      "cell_type": "code",
      "metadata": {
        "colab": {
          "base_uri": "https://localhost:8080/"
        },
        "id": "tgcGrAGySwFW",
        "outputId": "0a9d8656-95f9-4dde-8664-678a51ece675"
      },
      "source": [
        "array=[10,\"abc\",'k',-10,\"keerthi\",9.8]\n",
        "print(\"array is:\",array)\n",
        "for i in array:\n",
        "\tprint(i)"
      ],
      "execution_count": null,
      "outputs": [
        {
          "output_type": "stream",
          "text": [
            "array is: [10, 'abc', 'k', -10, 'keerthi', 9.8]\n",
            "10\n",
            "abc\n",
            "k\n",
            "-10\n",
            "keerthi\n",
            "9.8\n"
          ],
          "name": "stdout"
        }
      ]
    },
    {
      "cell_type": "markdown",
      "metadata": {
        "id": "Zqnkw2e9S-Ph"
      },
      "source": [
        "D.write a program using while loop that asks the user for a number and prints a countdown from number to zero"
      ]
    },
    {
      "cell_type": "markdown",
      "metadata": {
        "id": "vvNx3k1Mpupg"
      },
      "source": [
        " DESCRIPTION: While Loop is used to execute a block of statements repeatedly until a given condition is satisfied. And when the condition becomes false, the line immediately after the loop in the program is executed. While loop falls under the category of indefinite iteration The syntax for a while loop is: while [ condition]"
      ]
    },
    {
      "cell_type": "code",
      "metadata": {
        "colab": {
          "base_uri": "https://localhost:8080/"
        },
        "id": "6EU51R8MTMUu",
        "outputId": "3d1ce0b6-826f-403a-9e30-48bac9a4b5c7"
      },
      "source": [
        "num=int(input(\"enter the value:\"))\n",
        "while num>=0:\n",
        "\tprint(num)\n",
        "\tnum-=1"
      ],
      "execution_count": null,
      "outputs": [
        {
          "output_type": "stream",
          "text": [
            "enter the value:5\n",
            "5\n",
            "4\n",
            "3\n",
            "2\n",
            "1\n",
            "0\n"
          ],
          "name": "stdout"
        }
      ]
    },
    {
      "cell_type": "markdown",
      "metadata": {
        "id": "UfBleuOD5wh1"
      },
      "source": [
        "# EXCERCISE-4\n",
        "Find the sum of all primes bellow 2 million"
      ]
    },
    {
      "cell_type": "markdown",
      "metadata": {
        "id": "zXz6eux8p8cL"
      },
      "source": [
        "DESCRIPTION: A Fibonacci sequence is the integer sequence of 0, 1, 1, 2, 3, 5, 8.... The first two terms are 0 and 1. All other terms are obtained by adding the preceding two terms. This means to say the nth term is the sum of (n-1)th and (n-2)th term Here, we store the number of terms in nterms. We initialize the first term to 0 and the second term to 1. If the number of terms is more than 2, we use a while loop to find the next term in the sequence by adding the preceding two terms. We then interchange the variables (update it) and continue on with the process."
      ]
    },
    {
      "cell_type": "code",
      "metadata": {
        "colab": {
          "base_uri": "https://localhost:8080/"
        },
        "id": "5RTlcn7C6ATt",
        "outputId": "e2d9e4f0-417d-430e-8fbf-a3d2bc904fea"
      },
      "source": [
        "n=int(input(\"Enter ending number=\"))\n",
        " \n",
        "st=\"\"\n",
        "sum=0\n",
        " \n",
        "for i in range(2,n):\n",
        "       \n",
        "    state=True\n",
        "    for j in range(2,i):\n",
        "        if(i%j)==0:\n",
        "            state=False\n",
        "            break;\n",
        "    if state==True:\n",
        "        st+=\" \"+str(i)\n",
        "               \n",
        "        sum+=i\n",
        "print(\"Prime numbers\")\n",
        "print(st)\n",
        "print(\"Sum of Prime numbers \",sum)"
      ],
      "execution_count": null,
      "outputs": [
        {
          "output_type": "stream",
          "text": [
            "Enter ending number=100\n",
            "Prime numbers\n",
            " 2 3 5 7 11 13 17 19 23 29 31 37 41 43 47 53 59 61 67 71 73 79 83 89 97\n",
            "Sum of Prime numbers  1060\n"
          ],
          "name": "stdout"
        }
      ]
    },
    {
      "cell_type": "markdown",
      "metadata": {
        "id": "sQoqTA61TWQE"
      },
      "source": [
        "\n",
        "A program in which each new term in fibonacci series generated by adding the previous 2 terms"
      ]
    },
    {
      "cell_type": "code",
      "metadata": {
        "colab": {
          "base_uri": "https://localhost:8080/"
        },
        "id": "dKvh8oQEUByr",
        "outputId": "cb736638-6886-4331-f2fe-66c8fa28df9a"
      },
      "source": [
        "number=int(input(\"enter value of number=\")) \n",
        "a=0 \n",
        "b=1\n",
        "c=a+b\n",
        "while c<number:\n",
        "  print(c,end=' ') \n",
        "  a=b\n",
        "  b=c\n",
        "  c=a+b"
      ],
      "execution_count": null,
      "outputs": [
        {
          "output_type": "stream",
          "text": [
            "enter value of number=100\n",
            "1 2 3 5 8 13 21 34 55 89 "
          ],
          "name": "stdout"
        }
      ]
    },
    {
      "cell_type": "markdown",
      "metadata": {
        "id": "1fhEpng-UUtK"
      },
      "source": [
        "By considering the terms in fibonacci sequence whose values do not exceed four million find the sum of even valued terms"
      ]
    },
    {
      "cell_type": "markdown",
      "metadata": {
        "id": "c16zAMV2qLDG"
      },
      "source": [
        "DESCRIPTION: A Fibonacci sequence is the integer sequence of 0, 1, 1, 2, 3, 5, 8.... The first two terms are 0 and 1. All other terms are obtained by adding the preceding two terms. This means to say the nth term is the sum of (n-1)th and (n-2)th term Here, we store the number of terms in nterms. We initialize the first term to 0 and the second term to 1. If the number of terms is more than 2, we use a while loop to find the next term in the sequence by adding the preceding two terms. We then interchange the variables (update it) and continue on with the process."
      ]
    },
    {
      "cell_type": "code",
      "metadata": {
        "colab": {
          "base_uri": "https://localhost:8080/"
        },
        "id": "hOJnzr10XXe3",
        "outputId": "7ecee59e-9765-4b85-a4c5-08d316851db7"
      },
      "source": [
        "num=int(input(\"enter value=\"))\n",
        "a=0\n",
        "b=1\n",
        "c=a+b\n",
        "s=0\n",
        "print(\"even numbers =\",end=' ')\n",
        "while c<=num:\n",
        "  if c%2==0:\n",
        "    print(c,end=' ')\n",
        "    s+=c\n",
        "  a=b\n",
        "  b=c\n",
        "  c=a+b\n",
        "print(\"\\nsum of fibonnacci series=\",s)"
      ],
      "execution_count": null,
      "outputs": [
        {
          "output_type": "stream",
          "text": [
            "enter value=4000000\n",
            "even numbers = 2 8 34 144 610 2584 10946 46368 196418 832040 3524578 \n",
            "sum of fibonnacci series= 4613732\n"
          ],
          "name": "stdout"
        }
      ]
    },
    {
      "cell_type": "markdown",
      "metadata": {
        "id": "MVxWnzDfW4CH"
      },
      "source": [
        "#                                       EXCERCISE-5\n",
        " write a program to count the number of charecters in the string and store them in a dictonaray data structure"
      ]
    },
    {
      "cell_type": "markdown",
      "metadata": {
        "id": "adHcx2xAqO4S"
      },
      "source": [
        "DESCRIPTION: Given a string, the task is to find the frequencies of all the characters in that string and return a dictionary with key as the character and its value as its frequency in the given string. Method #1 : Naive method Simply iterate through the string and form a key in dictionary of newly occurred element or if element is already occurred, increase its value by 1. Method #2 : Using collections.Counter() The most suggested method that could be used to find all occurrences is this method, this actually gets all element frequency and could also be used to print single element frequency if required."
      ]
    },
    {
      "cell_type": "code",
      "metadata": {
        "colab": {
          "base_uri": "https://localhost:8080/"
        },
        "id": "donkgcpkXOw1",
        "outputId": "9805ecc5-dc7e-4f37-bf8d-99912443e2a2"
      },
      "source": [
        "name=input(\"enter name:\")\n",
        "dic={}\n",
        "  \n",
        "for ch in name:\n",
        "  keys=dic.keys()\n",
        "  \n",
        "  if(ch in keys):\n",
        "     dic[ch]-dic[ch]+1 \n",
        "  else:\n",
        "    dic[ch]=1 \n",
        "  \n",
        "print(\"dictionary is\",dic)"
      ],
      "execution_count": null,
      "outputs": [
        {
          "output_type": "stream",
          "text": [
            "enter name:keerthisupraja\n",
            "dictionary is {'k': 1, 'e': 1, 'r': 1, 't': 1, 'h': 1, 'i': 1, 's': 1, 'u': 1, 'p': 1, 'a': 1, 'j': 1}\n"
          ],
          "name": "stdout"
        }
      ]
    },
    {
      "cell_type": "markdown",
      "metadata": {
        "id": "2q2dO217X_dO"
      },
      "source": [
        "write a program to split and join methods in a string and trace a birthdaywith dictionary data structure"
      ]
    },
    {
      "cell_type": "markdown",
      "metadata": {
        "id": "RbkCRwVMqaRn"
      },
      "source": [
        "DESCRIPTION: Python program to Split a string based on a delimiter and join the string using another delimiter. Split a string can be quite useful sometimes, especially when you need only certain parts of strings. A simple yet effective example is splitting the First-name and Last-name of a person. Another application is CSV(Comma Separated Files). We use split to get data from CSV and join to write data to CSV. In Python, we can use the function split() to split a string and join() to join a sting"
      ]
    },
    {
      "cell_type": "code",
      "metadata": {
        "colab": {
          "base_uri": "https://localhost:8080/"
        },
        "id": "LwS0u3YJYUbP",
        "outputId": "899926d8-1a08-4f91-e892-ceafd705d2ee"
      },
      "source": [
        "dob={\"keerthi\":\"25-jan-2002\",\"radha\":\"01-agust-1999\"}\n",
        "name=input(\"Enter person name= \")\n",
        "  \n",
        "l=name.split()\n",
        "birth=\"\"\n",
        "\n",
        "for i in l: \n",
        "  if i in dob.keys():\n",
        "    pers=i\n",
        "print(\"\".join([pers,\"Birthday is \",dob[pers]]))"
      ],
      "execution_count": null,
      "outputs": [
        {
          "output_type": "stream",
          "text": [
            "Enter person name= keerthi\n",
            "keerthiBirthday is 25-jan-2002\n"
          ],
          "name": "stdout"
        }
      ]
    },
    {
      "cell_type": "markdown",
      "metadata": {
        "id": "1qUPIm47Y6Vi"
      },
      "source": [
        "#                                          EXCERCISE-6\n",
        "A.write a program combine lists that combines listst into dictonary"
      ]
    },
    {
      "cell_type": "markdown",
      "metadata": {
        "id": "BCvsfIf3qhdQ"
      },
      "source": [
        "DESCRIPTION: For this, simply declare a dictionary, and then run nested loop for both the lists and assign key and value pairs to from list values to dictionary. Most pythonic and generic method to perform this very task is by using zip(). This function pairs the list element with other list element at corresponding index in form of key-value pairs.\n",
        "\n"
      ]
    },
    {
      "cell_type": "code",
      "metadata": {
        "colab": {
          "base_uri": "https://localhost:8080/"
        },
        "id": "x2cFiuauAzAg",
        "outputId": "381a44a6-d39b-4fe5-f050-59224f9d5192"
      },
      "source": [
        "subject=[\"DAA\",\"OS\",\"DBMS\",\"P&S\",\"PPL\",\"SE\"]\n",
        "marks=[94,98,99,95,97,96]\n",
        "print(\"given lists are:\")\n",
        "print(\"Subject name=\",subject)\n",
        "print(\"marks=\",marks)\n",
        "d=dict(zip(subject,marks))\n",
        "print(\"dictonary=\",d)\n"
      ],
      "execution_count": null,
      "outputs": [
        {
          "output_type": "stream",
          "text": [
            "given lists are:\n",
            "Subject name= ['DAA', 'OS', 'DBMS', 'P&S', 'PPL', 'SE']\n",
            "marks= [94, 98, 99, 95, 97, 96]\n",
            "dictonary= {'DAA': 94, 'OS': 98, 'DBMS': 99, 'P&S': 95, 'PPL': 97, 'SE': 96}\n"
          ],
          "name": "stdout"
        }
      ]
    },
    {
      "cell_type": "markdown",
      "metadata": {
        "id": "MMutOWdgCQdB"
      },
      "source": [
        "B.write a program to found the frquency of charecters in the given file .can you use charecter frequency to tell whether the given file is python program file or a text file or a c program file "
      ]
    },
    {
      "cell_type": "markdown",
      "metadata": {
        "id": "kgWvmpXKqwg3"
      },
      "source": [
        "DESCRIPTION: approaches to count the number of times a letter appears in a text file in Python. Method 1: Using the in-built count() method. Approach:\n",
        "\n",
        "Read the file.\n",
        "Store the content of the file in a variable.\n",
        "Use the count() method with the argument as a letter whose frequency is required.\n",
        "Display the count of the letter."
      ]
    },
    {
      "cell_type": "code",
      "metadata": {
        "id": "qqe1F_P6Ecw5"
      },
      "source": [
        "ftype=['.py','.c','.txt']\n",
        "fn=input(\"enter the file name\")\n",
        "f=open(fn,\"r\")\n",
        "count=dict()\n",
        "print(\"given file  is\",end=\" \")\n",
        "for ft in ftype:\n",
        "  if(ft in fn):\n",
        "    if(ft=='.py'):\n",
        "      print(\"python file\")\n",
        "    elif(ft=='.c'):\n",
        "      print(\"c file\")\n",
        "    else:\n",
        "      print(\"txt file\")\n",
        "for line in f:\n",
        "  for ch in line:\n",
        "    if ch in count:\n",
        "      count[ch]=count[ch]+1\n",
        "    else:\n",
        "      count[ch]=1\n",
        "print(count)\n",
        "f.close()"
      ],
      "execution_count": null,
      "outputs": []
    },
    {
      "cell_type": "markdown",
      "metadata": {
        "id": "GX41rNPDAQKQ"
      },
      "source": [
        "# EXCERCISE-7\n",
        "A.write a program to print each line of the file in reverse order"
      ]
    },
    {
      "cell_type": "markdown",
      "metadata": {
        "id": "0rmblsUdq8tF"
      },
      "source": [
        "DESCRIPTION: The file handling plays an important role when the data needs to be stored permanently into the file. A file is a named location on disk to store related information. We can access the stored information (non-volatile) after the program termination. In Python, files are treated in two modes as text or binary. The file may be in the text or binary format, and each line of a file is ended with the special character. Hence, a file operation can be done in the following order. Open a file  Read or write - Performing operation □ Close the file\n",
        "\n"
      ]
    },
    {
      "cell_type": "code",
      "metadata": {
        "id": "KN7gUQ5uBbKT"
      },
      "source": [
        "obj=open(\"abc.txt\",\"r\")\n",
        "if obj:\n",
        "  st=obj.read()\n",
        "  print(\"file content is :\\n\",st)\n",
        "obj.close()\n",
        "\n",
        "print()\n",
        "lines=st.split(\"\\n\")\n",
        "for ln in lines:\n",
        "  i=len(ln)-1\n",
        "  while(i>=0):\n",
        "    print(ln[i],end='')\n",
        "    i=i-1\n",
        "  print()"
      ],
      "execution_count": null,
      "outputs": []
    },
    {
      "cell_type": "markdown",
      "metadata": {
        "id": "kp4z3n_PBeE-"
      },
      "source": [
        "B.write a progeram to count the number of charecters,words and lines in a files"
      ]
    },
    {
      "cell_type": "markdown",
      "metadata": {
        "id": "hVJWq0ayrJss"
      },
      "source": [
        "DESCRIPTION: Given a text file fname, the task is to count the total number of characters, words, spaces and lines in the file. As we know, Python provides multiple in-built features and modules for handling files. Let’s discuss different ways to calculate total number of characters, words, spaces and lines in a file using Python. Method #1: Naive approach In this approach, the idea is to solve the task by developing our own logic. Without using any built-in function of Python, the total number of characters, words, spaces and lines of the file will be calculated. Method #2: Using some built-in functions and OS module functions In this approach, the idea is to use the os.linesep() method of OS module to separate the lines on the current platform. When the interpreter’s scanner encounter os.linesep it replaces it with \\n character. After that strip() and split() functions will be used to carry out the task.\n",
        "\n"
      ]
    },
    {
      "cell_type": "code",
      "metadata": {
        "id": "3iIxyPSnCMPp"
      },
      "source": [
        "nc=nw=nl=0\n",
        "file=open(\"abc.txt\",\"r\")\n",
        "nl=nw=nc=0\n",
        "print(\"file content :\\n\")\n",
        "for line in file:\n",
        "  ln=line.strip(\"\\n\")\n",
        "  print(ln)\n",
        "  words=ln.split()\n",
        "  nl+=1\n",
        "  nw+=len(word)\n",
        "  nc+=len(line)\n",
        "file.close()\n",
        "print(\"\\n No of lines\",nl,\"words\",nw,\"character\",nc)\n"
      ],
      "execution_count": null,
      "outputs": []
    },
    {
      "cell_type": "markdown",
      "metadata": {
        "id": "fT8SB83-0KJN"
      },
      "source": [
        "##                                           EXCERCISE-8\n",
        "A.write a function ball collides that takes two balls as parameters and computes if they are coliding.your function should return a boolean representing whether colliding or not                                           "
      ]
    },
    {
      "cell_type": "markdown",
      "metadata": {
        "id": "2Bj3IZhJrTap"
      },
      "source": [
        "DESCRIPTION: Functions A function in python is a block of code that is defined for doing frequent operations in a particular task. The general format is def Functionname(arguments): Statements Calling a Function: A function can be called by its name followed by arguments within parenthesis. function()\n",
        "\n",
        "[ ]\n"
      ]
    },
    {
      "cell_type": "code",
      "metadata": {
        "colab": {
          "base_uri": "https://localhost:8080/"
        },
        "id": "vwAnSNQw7p0a",
        "outputId": "e33b80d7-6401-4333-b2e3-9c52c99f6d25"
      },
      "source": [
        "import math\n",
        "def collide(ball_tup1,ball_tup2):\n",
        "  x1,y1,r1=ball_tup1\n",
        "  x2,y2,r2=ball_tup2\n",
        "  print(\"Ball1=\",ball_tup1)\n",
        "  print(\"Ball1=\",ball_tup2)\n",
        "\n",
        "  d=math.sqrt((x2-x1)**2+(y2-y1)**2)\n",
        "  print(\"Centroid distance=\",d)\n",
        "  print(\"sum of radius ball1 and ball2={}+{}={}\".format(r1,r2,r1+r2))\n",
        "\n",
        "  if d<=r1+r2:\n",
        "    return True\n",
        "  else:\n",
        "    return False\n",
        "b1=(2,-4,-3)\n",
        "b2=(5,8,10)\n",
        "\n",
        "if collide(b1,b2):\n",
        "  print(\"Balls are colide\")\n",
        "else:\n",
        "  print(\"Balls are  not colide\")\n",
        "\n"
      ],
      "execution_count": null,
      "outputs": [
        {
          "output_type": "stream",
          "text": [
            "Ball1= (2, -4, -3)\n",
            "Ball1= (5, 8, 10)\n",
            "Centroid distance= 12.36931687685298\n",
            "sum of radius ball1 and ball2=-3+10=7\n",
            "Balls are  not colide\n"
          ],
          "name": "stdout"
        }
      ]
    },
    {
      "cell_type": "markdown",
      "metadata": {
        "id": "1ou3I6ML-XbK"
      },
      "source": [
        "B.find mean,mode and for the given set of numbers in the list"
      ]
    },
    {
      "cell_type": "markdown",
      "metadata": {
        "id": "-pVIc8Nsrd33"
      },
      "source": [
        "DESCRIPTION: Mean : The mean is the average of all numbers and is sometimes called the arithmetic mean. This code calculates Mean or Average of a list containing numbers: Median : The median is the middle number in a group of numbers. This code calculates Median of a list containing numbers: Mode : The mode is the number that occurs most often within a set of numbers. This code calculates Mode of a list containing numbers: We will import Counter from collections library which is a built-in module in Python 2 and 3. This module will help us count duplicate elements in a list. We define a list of numbers and calculate the length of the list. We then call Counter (a dict subclass) which helps to count hashable objects, and we then convert it to dict object. We then initialize a list with a For Loop to compare all the dict values (Number of elements) to the max of all dict values (count of most occurring element) and it returns all the elements equal to max count. If the elements returned are equal to the number of total elements in a list then we print out ‘No mode’, else we print out the modes returned.\n",
        "\n",
        "\n"
      ]
    },
    {
      "cell_type": "code",
      "metadata": {
        "id": "u_5cuXzyanOs"
      },
      "source": [
        "def list_mean(num_list):\n",
        " return sum(num_list)/len(num_list) \n",
        "def list_median(num_list): \n",
        "  num_list.sort()\n",
        "  n=len(num_list)\n",
        "  mid=n/2\n",
        "  if (n%2==1):\n",
        "    return num_list[mid]\n",
        "  else:\n",
        "    mid\n",
        "    return (num_list[mid-1]+num_list[mid])/2\n",
        "\n",
        "def list_mode(num_list):\n",
        "  num_list.sort()\n",
        "  temp=[]\n",
        "\n",
        "  i=0\n",
        "  while i<len(num_list):\n",
        "    temp.append(num_list.count(num_list[i]))\n",
        "    i+=1\n",
        "\n",
        "  dic=dict(zip(num_list,temp))\n",
        "  mode={k for(k,v) in dic.items() if v==max(temp)}\n",
        "  return mode\n",
        "  \n",
        "lst=[1,1,2,2,2,3,4,5,3]\n",
        "\n",
        "\n",
        "print(\"Given list is:\",lst)\n",
        "print(\"Mean of given list is:\",list_mean(lst))\n",
        "print(\"Median of given list is:\",list_median(lst))\n",
        "print(\"Mode of given list is:\",list_mode(lst))\n"
      ],
      "execution_count": null,
      "outputs": []
    },
    {
      "cell_type": "markdown",
      "metadata": {
        "id": "VfQewQlJznjH"
      },
      "source": [
        "#                                       EXCERCISE-9\n",
        "A.write a function nearly equal to test whether two strings are nearly equal or not.two strings are nearly a and b are equal when a can be generated by single mutation on b"
      ]
    },
    {
      "cell_type": "markdown",
      "metadata": {
        "id": "e19IP1Znr4FS"
      },
      "source": [
        "DESCRIPTION: strlen() function is used to check wether the two string are nearly equal or not by basis of the Length of those Strings len() function is an inbuilt function in Python programming language that returns the length of the string. len() is a built-in function in python.You can use the len() to get the length of the given string, array, list, tuple, dictionary, etc. Value: the given value you want the length of. Return value a return an integer value i.e. the length of the given string, or array, or list, or collections."
      ]
    },
    {
      "cell_type": "code",
      "metadata": {
        "colab": {
          "base_uri": "https://localhost:8080/"
        },
        "id": "yNRHtwJA03W1",
        "outputId": "a6b28929-d92b-4bd3-cfa9-dcc2269336ac"
      },
      "source": [
        "def nearly_eq(str1,str2):\n",
        "  count=0\n",
        "  i=j=0\n",
        "  while(i<len(str1) and j<len(str2)):\n",
        "   if (str1[i]!=str2[j]):\n",
        "      count+=1\n",
        "      if(len(str1)>len(str2)):\n",
        "        i+=1\n",
        "      elif(len(str1)-len(str2)):\n",
        "         pass\n",
        "      else:\n",
        "         i-=1\n",
        "   if(count>1):\n",
        "     return False\n",
        "   i+=1\n",
        "   j+=1\n",
        "  if(count<2):\n",
        "   return True\n",
        "\n",
        "strl=input(\"Enter String1: \")\n",
        "str2=input(\"Enter String2: \")\n",
        "bln=nearly_eq(strl,str2)\n",
        "if(bln):\n",
        "   print(\"Strings are nearly equal.\")\n",
        "else:\n",
        "   print(\"String are NOT equal.\")"
      ],
      "execution_count": null,
      "outputs": [
        {
          "output_type": "stream",
          "text": [
            "Enter String1: keerthi\n",
            "Enter String2: keerthi\n",
            "Strings are nearly equal.\n"
          ],
          "name": "stdout"
        }
      ]
    },
    {
      "cell_type": "markdown",
      "metadata": {
        "id": "KM-cIidn2q3i"
      },
      "source": [
        "B.write a function dup to find all duplicates in the list"
      ]
    },
    {
      "cell_type": "markdown",
      "metadata": {
        "id": "sUL2tXsMsAg1"
      },
      "source": [
        "AIM: b) Write a function dup to find all duplicates in the list. DESCRIPTION: To check if a list contains any duplicate element follow the following steps,\n",
        "\n",
        "Add the contents of list in a set.\n",
        "Compare the size of set and list. If size of list & set is equal then it means no duplicates in list.\n",
        "If size of list & set are different then it means yes, there are duplicates in list.\n"
      ]
    },
    {
      "cell_type": "code",
      "metadata": {
        "colab": {
          "base_uri": "https://localhost:8080/"
        },
        "id": "eXryY1WK6Nde",
        "outputId": "8fc42111-75cb-46f1-941e-2aab9e43966c"
      },
      "source": [
        "def dups(numlist):\n",
        "  temp=[]\n",
        "  for i in numlist:\n",
        "    cnt=numlist.count(i)\n",
        "    if(cnt>1 and (i not in temp)):\n",
        "       temp.append(i)\n",
        "  print(\"Duplicates in the list: \",temp) \n",
        "lst=[1,2,3,5,6,1,1,2,2,4,4,4]\n",
        "print(\"Given elements in the list: \",lst)\n",
        "dups(lst)"
      ],
      "execution_count": null,
      "outputs": [
        {
          "output_type": "stream",
          "text": [
            "Given elements in the list:  [1, 2, 3, 5, 6, 1, 1, 2, 2, 4, 4, 4]\n",
            "Duplicates in the list:  [1, 2, 4]\n"
          ],
          "name": "stdout"
        }
      ]
    },
    {
      "cell_type": "markdown",
      "metadata": {
        "id": "i9oj6TMy8QbV"
      },
      "source": [
        "C.write a function unique to find all unique elemnts of a list"
      ]
    },
    {
      "cell_type": "markdown",
      "metadata": {
        "id": "UBlesxcDsIuF"
      },
      "source": [
        "DESCRIPTION: To find the unique in the list .There is a Specific Method i.e., Method : Traversal of list Using traversal, we can traverse for every element in the list and check if the element is in the unique_list already if it is not over there, then we can append it in the unique_list. This is done using one for loop and other if statement which check if the value is in the unique list or not which is equivalent to another for loop."
      ]
    },
    {
      "cell_type": "code",
      "metadata": {
        "colab": {
          "base_uri": "https://localhost:8080/"
        },
        "id": "HukJO6aw8hnA",
        "outputId": "ca1b8c66-e91e-4da5-9980-35668c7ef5ed"
      },
      "source": [
        "def unique(numlist):\n",
        "  temp=[]\n",
        "  for i in numlist:\n",
        "    cnt=numlist.count(i)\n",
        "    if cnt==1:\n",
        "      temp.append(i)\n",
        "  print(\"unique elemnts in list:\",temp)\n",
        "lst=[1,2,20,9,10,4,5,2,1]\n",
        "print(\"given elemnts in the list:\",lst)\n",
        "unique(lst)"
      ],
      "execution_count": null,
      "outputs": [
        {
          "output_type": "stream",
          "text": [
            "given elemnts in the list: [1, 2, 20, 9, 10, 4, 5, 2, 1]\n",
            "unique elemnts in list: [20, 9, 10, 4, 5]\n"
          ],
          "name": "stdout"
        }
      ]
    },
    {
      "cell_type": "markdown",
      "metadata": {
        "id": "rVNqDByae8C2"
      },
      "source": [
        "#                                           EXCERCISE-10\n",
        "A.write a function cumulative product to compute cummulative product of list of numbers."
      ]
    },
    {
      "cell_type": "markdown",
      "metadata": {
        "id": "-J3R-45isP--"
      },
      "source": [
        "DESCRIPTION: A cumulative product is a sequence of partial products of a given sequence. For example, the cumulative products of the sequence. , are , , .. Cumulative products can be implemented in the Wolfram Language as Rest[FoldList[Times, 1, list]] cumprod(A,1) works on successive elements in the columns of A and returns the cumulative products of each column. cumprod(A,2) works on successive elements in the rows of A and returns the cumulative products of each row. umprod() function is used when we want to compute the cumulative product of array elements over a given axis. Syntax : numpy.cumprod(arr, axis=None, dtype=None, out=None) Parameters : arr : [array_like] Array containing numbers whose cumulative product is desired."
      ]
    },
    {
      "cell_type": "code",
      "metadata": {
        "colab": {
          "base_uri": "https://localhost:8080/"
        },
        "id": "6SjE0yDclhNR",
        "outputId": "a7435a04-8790-4b25-a1da-715e879bd896"
      },
      "source": [
        "def cum_pro(numlist):\n",
        "  pro=1\n",
        "  temp=[]\n",
        "  for i in  numlist:\n",
        "    pro*=i\n",
        "    temp.append(pro)\n",
        "  return temp\n",
        "lst=[2,4,3,5,6]\n",
        "print(\"list=\",lst)\n",
        "print(\"cumulative product=\",cum_pro(lst))\n"
      ],
      "execution_count": null,
      "outputs": [
        {
          "output_type": "stream",
          "text": [
            "list= [2, 4, 3, 5, 6]\n",
            "cumulative product= [2, 8, 24, 120, 720]\n"
          ],
          "name": "stdout"
        }
      ]
    },
    {
      "cell_type": "markdown",
      "metadata": {
        "id": "kdwzCPpsmcM-"
      },
      "source": [
        "B.write a function reverse to reverse a list,without using reverse function"
      ]
    },
    {
      "cell_type": "markdown",
      "metadata": {
        "id": "uvW6NIjqsVeY"
      },
      "source": [
        "DESCRIPTION: In this Python code snippet post, we are going to implement a list reverse function from the scratch without using any builtin functions. Let us see how... Iterative solution We can use a for loop to swap the first and last items, the second and the one before the last item and so on until the list is reversed in place. The number of iterations needed is half the list size. If the list has an odd number of items then the middle item will stay in its place.\n",
        "\n"
      ]
    },
    {
      "cell_type": "code",
      "metadata": {
        "colab": {
          "base_uri": "https://localhost:8080/"
        },
        "id": "LtXG63FkmxCZ",
        "outputId": "3e25c375-b5f6-4d84-afeb-d4fb83406f03"
      },
      "source": [
        "def rev_lst(numlist):\n",
        "  i=0\n",
        "  j=len(numlist)-1\n",
        "  while(i<=j):\n",
        "    temp=numlist[i]\n",
        "    numlist[i]=numlist[j]\n",
        "    numlist[j]=temp\n",
        "    j-=1\n",
        "    i+=1\n",
        "  return numlist\n",
        "lst=[10,20,30,40,50]\n",
        "print(\"list=\",lst)\n",
        "rev_lst(lst)\n",
        "print(\"reverse list=\",lst)"
      ],
      "execution_count": null,
      "outputs": [
        {
          "output_type": "stream",
          "text": [
            "list= [10, 20, 30, 40, 50]\n",
            "reverse list= [50, 40, 30, 20, 10]\n"
          ],
          "name": "stdout"
        }
      ]
    },
    {
      "cell_type": "markdown",
      "metadata": {
        "id": "_LOLLOICnnWO"
      },
      "source": [
        "C.write a function to compute gcd,lcm of two numbers each function shouldnot exceed one line"
      ]
    },
    {
      "cell_type": "markdown",
      "metadata": {
        "id": "qDxDQGvisfQw"
      },
      "source": [
        "DESCRIPTION: Python provides you an anonymous function called lambda. It can take any number of arguments, but can only have one expression. It can be used to find LCM and GCD values without exceeding each from from one line. The general format is lambda arguments: expression The expression is executed during the function call and the result is returned. Lambda as a Function The power of using a lambda expression is implementing it using a function"
      ]
    },
    {
      "cell_type": "code",
      "metadata": {
        "colab": {
          "base_uri": "https://localhost:8080/"
        },
        "id": "JrSU2-jcn3Gd",
        "outputId": "9bfc7201-1036-4fe6-ee56-9e25c62c777f"
      },
      "source": [
        "gcd=lambda a,b:a if b==0 else gcd(a,a%b)\n",
        "lcm=lambda a,b:(a*b)/gcd(a,b)\n",
        "x=5\n",
        "y=25\n",
        "print(\"Given numbers=\",x,y)\n",
        "print(\"GCD=\",gcd(x,y))\n",
        "print(\"LCM=\",lcm(x,y))"
      ],
      "execution_count": null,
      "outputs": [
        {
          "output_type": "stream",
          "text": [
            "Given numbers= 5 25\n",
            "GCD= 5\n",
            "LCM= 25.0\n"
          ],
          "name": "stdout"
        }
      ]
    },
    {
      "cell_type": "markdown",
      "metadata": {
        "id": "wF-fAsQiLrOw"
      },
      "source": [
        "# EXCERCISE-11\n",
        "*A.write a program that defines a matrix and prints.*"
      ]
    },
    {
      "cell_type": "markdown",
      "metadata": {
        "id": "w-Ay2pqIspOU"
      },
      "source": [
        "DESCRIPTION: Lists are a very widely use data structure in python. They contain a list of elements separated by comma. But sometimes lists can also contain lists within them. These are called nested lists or multidimensional lists. In this article we will see how to create and access elements in a multidimensional list. Methods on Multidimensional lists\n",
        "\n",
        "append(): Adds an element at the end of the list.\n",
        "extend(): Add the elements of a list (or any iterable), to the end of the current list.\n",
        "reverse(): Reverses the order of the list.\n"
      ]
    },
    {
      "cell_type": "code",
      "metadata": {
        "colab": {
          "base_uri": "https://localhost:8080/"
        },
        "id": "Kq-g-1rGMWiE",
        "outputId": "56ebef32-ad8e-40b6-9e7f-21c594daac24"
      },
      "source": [
        "mataA=[[]]\n",
        "rows=int(input(\"Enter row size= \"))\n",
        "cols=int(input(\"Enter column size= \"))\n",
        "\n",
        "matA=[[int(input(\"enter [%d,%d]value:\"%(i,j)))for j in range(cols)]for i in range(rows)]\n",
        "\n",
        "print(\"matrix is\")\n",
        "for i in range(rows):\n",
        " for j in range(cols):\n",
        "     print(matA[i][j],end='\\t')\n",
        " print()"
      ],
      "execution_count": null,
      "outputs": [
        {
          "output_type": "stream",
          "text": [
            "Enter row size= 3\n",
            "Enter column size= 3\n",
            "enter [0,0]value:1\n",
            "enter [0,1]value:2\n",
            "enter [0,2]value:3\n",
            "enter [1,0]value:4\n",
            "enter [1,1]value:5\n",
            "enter [1,2]value:6\n",
            "enter [2,0]value:7\n",
            "enter [2,1]value:8\n",
            "enter [2,2]value:9\n",
            "matrix is\n",
            "1\t2\t3\t\n",
            "4\t5\t6\t\n",
            "7\t8\t9\t\n"
          ],
          "name": "stdout"
        }
      ]
    },
    {
      "cell_type": "markdown",
      "metadata": {
        "id": "HZeDmT4HNIMe"
      },
      "source": [
        "*B.write a program to perform addition of two square matrices.*"
      ]
    },
    {
      "cell_type": "markdown",
      "metadata": {
        "id": "oyZHWRbFs35N"
      },
      "source": [
        "DESCRIPTION: We can perform matrix addition in following ways in Python.\n",
        "\n",
        "Using for loop: Explanation :- In this program we have used nested for loops to iterate through each row and each column. At each point we add the corresponding elements in the two matrices and store it in the result.\n",
        "Using nested list comprehension : In Python, we can implement a matrix as nested list (list inside a list). We can treat each element as a row of the matrix. Explanation :- The output of this program is the same as above. We have used nested list comprehension to iterate through each element in the matrix. List comprehension allows us to write concise codes and we must try to use them frequently in Python. They are very helpful.\n",
        "uising zip function Explanation : The zip function accepts iterator i of each element(list) of matrix, mapping them, adding them using sum() and storing them in the map form."
      ]
    },
    {
      "cell_type": "code",
      "metadata": {
        "colab": {
          "base_uri": "https://localhost:8080/"
        },
        "id": "WCw0m64hNUkQ",
        "outputId": "50333ee7-473d-44bd-fb7d-0a3f9dd54dba"
      },
      "source": [
        "def matRead(r,c):\n",
        "  return[[int(input(\"[%d,%d] value:\"%(i,j)))for j in range(c)]for i in range(r)]\n",
        "def matDisp(mat,r,c):\n",
        "  for i in range(r):\n",
        "    for j in range(c):\n",
        "      print(mat[i][j],end='\\t')\n",
        "    print()\n",
        "matA=[[]]\n",
        "matB=[[]]\n",
        "matSum=[[]]\n",
        "rows=int(input(\"Enter row size=\"))\n",
        "cols=int(input(\"Enter column size=\"))\n",
        "if rows==cols:\n",
        "  print(\"enter A elements:\")\n",
        "  matA=matRead(rows,cols)\n",
        "\n",
        "  print(\"enter B elements:\")\n",
        "  matB=matRead(rows,cols)\n",
        "\n",
        "  print(\"Matric-A is:\")\n",
        "  matDisp(matA,rows,cols)\n",
        "\n",
        "  print(\"Matric-B is:\")\n",
        "  matDisp(matB,rows,cols)\n",
        "\n",
        "  matSum=[[matA[i][j]+matB[i][j] for j in range(cols)] for i in range (rows)]\n",
        "  print(\"Sum of matrices is:\")\n",
        "  matDisp(matSum,rows,cols)\n",
        "else:\n",
        "  print(\"Matrices addition is not possible\")"
      ],
      "execution_count": null,
      "outputs": [
        {
          "output_type": "stream",
          "text": [
            "Enter row size=2\n",
            "Enter column size=2\n",
            "enter A elements:\n",
            "[0,0] value:1\n",
            "[0,1] value:2\n",
            "[1,0] value:3\n",
            "[1,1] value:4\n",
            "enter B elements:\n",
            "[0,0] value:5\n",
            "[0,1] value:6\n",
            "[1,0] value:7\n",
            "[1,1] value:8\n",
            "Matric-A is:\n",
            "1\t2\t\n",
            "3\t4\t\n",
            "Matric-B is:\n",
            "5\t6\t\n",
            "7\t8\t\n",
            "Sum of matrices is:\n",
            "6\t8\t\n",
            "10\t12\t\n"
          ],
          "name": "stdout"
        }
      ]
    },
    {
      "cell_type": "markdown",
      "metadata": {
        "id": "7908Ttq-RxY0"
      },
      "source": [
        "*C.write a program to perform multiplication of two square matrices*"
      ]
    },
    {
      "cell_type": "markdown",
      "metadata": {
        "id": "2u3XoG9xs98d"
      },
      "source": [
        "DESCRIPTION: In Python, we can implement a matrix as nested list (list inside a list). We can treat each element as a row of the matrix. For example X = [[1, 2], [4, 5], [3, 6]] would represent a 3x2 matrix. The first row can be selected as X[0]. And, the element in first row, first column can be selected as X[0][0]. Multiplication of two matrices X and Y is defined only if the number of columns in X is equal to the number of rows Y. If X is a n x m matrix and Y is a m x l matrix then, XY is defined and has the dimension n x l (but YX is not defined). Here are a couple of ways to implement matrix multiplication in Python."
      ]
    },
    {
      "cell_type": "code",
      "metadata": {
        "colab": {
          "base_uri": "https://localhost:8080/"
        },
        "id": "GkB4vZH2TDB3",
        "outputId": "e6300bc0-98b2-42df-d3f6-d5b940b5d086"
      },
      "source": [
        "def matRead(r,c):\n",
        "  return[[int(input(\"[%d,%d] value:\"%(i,j)))for j in range(c)]for i in range(r)]\n",
        "def matDisp(mat,r,c):\n",
        "  for i in range(r):\n",
        "   for j in range(c):\n",
        "    print(mat[i][j],end='\\t')\n",
        "   print()\n",
        "\n",
        "matA=[[]]\n",
        "matB=[[]]\n",
        "matSum=[[]]\n",
        "rows=int(input(\"Enter row size=\"))\n",
        "cols=int(input(\"Enter col size=\"))\n",
        "if rows==cols:\n",
        "  print(\"Enter A elements=\")\n",
        "  matA=matRead(rows,cols)\n",
        "\n",
        "  print(\"Enter B elements=\")\n",
        "  matB=matRead(rows,cols)\n",
        "\n",
        "  print(\" Matrix A Is\")\n",
        "  matDisp(matA,rows,cols)\n",
        "\n",
        "  print(\" Matrix B Is\")\n",
        "  matDisp(matB,rows,cols)\n",
        "\n",
        "  matSum=[[matA[i][j]+matB[i][j] for j in range(cols)] for i in range (rows)]\n",
        "\n",
        "  print(\"Sum of matrix\")\n",
        "  matDisp(matSum,rows,cols)\n",
        "else:\n",
        "  print(\"Matrices addition is not possible\")\n"
      ],
      "execution_count": null,
      "outputs": [
        {
          "output_type": "stream",
          "text": [
            "Enter row size=2\n",
            "Enter col size=2\n",
            "Enter A elements=\n",
            "[0,0] value:1\n",
            "[0,1] value:2\n",
            "[1,0] value:3\n",
            "[1,1] value:4\n",
            "Enter B elements=\n",
            "[0,0] value:5\n",
            "[0,1] value:6\n",
            "[1,0] value:7\n",
            "[1,1] value:8\n",
            " Matrix A Is\n",
            "1\t2\t\n",
            "3\t4\t\n",
            " Matrix B Is\n",
            "5\t6\t\n",
            "7\t8\t\n",
            "Sum of matrix\n",
            "6\t8\t\n",
            "10\t12\t\n"
          ],
          "name": "stdout"
        }
      ]
    },
    {
      "cell_type": "markdown",
      "metadata": {
        "id": "lAwPHazu3o76"
      },
      "source": [
        "# EXCERCISE-12\n",
        "Write a script that imports the requests and fettch content from page "
      ]
    },
    {
      "cell_type": "markdown",
      "metadata": {
        "id": "xwN841GFtKiZ"
      },
      "source": [
        "DESCRIPTION: The Hypertext Transfer Protocol (HTTP) is an application protocol for distributed, collaborative, hypermedia information systems. HTTP is the foundation of data communication for the World Wide Web. Python requests Requests is a simple and elegant Python HTTP library. It provides methods for accessing Web resources via HTTP. Python requests reading a web page The get() method issues a GET request; it fetches documents identified by the given URL."
      ]
    },
    {
      "cell_type": "code",
      "metadata": {
        "id": "OSyeLJm14AqZ",
        "colab": {
          "base_uri": "https://localhost:8080/"
        },
        "outputId": "c74c3938-c513-40cb-a7f2-3bd15df62beb"
      },
      "source": [
        "import requests\n",
        "r=requests.get('https://www.google.com')\n",
        "\n",
        "print(\"status code:\",r.status_code)\n",
        "\n",
        "print(\"header content:\",r.headers['content-type'])\n",
        "\n",
        "print(r.text)"
      ],
      "execution_count": null,
      "outputs": [
        {
          "output_type": "stream",
          "name": "stdout",
          "text": [
            "status code: 200\n",
            "header content: text/html; charset=ISO-8859-1\n",
            "<!doctype html><html itemscope=\"\" itemtype=\"http://schema.org/WebPage\" lang=\"nl\"><head><meta content=\"text/html; charset=UTF-8\" http-equiv=\"Content-Type\"><meta content=\"/images/branding/googleg/1x/googleg_standard_color_128dp.png\" itemprop=\"image\"><title>Google</title><script nonce=\"j+hGEuAqqjCJdWjgV9krAA==\">(function(){window.google={kEI:'LnQ1YdHiHsX-sAegp7OYCA',kEXPI:'0,772215,1,530320,56873,954,755,4350,206,4804,2316,383,246,5,1354,5251,1122515,1197785,498,118,328866,51223,16112,28687,17572,4858,1362,283,9007,3027,17582,4998,13228,3847,4192,6430,19044,2778,919,5081,1593,1279,2212,531,148,1103,840,1983,213,4101,3514,606,2023,1777,521,14669,3227,2845,7,5599,6755,5096,15767,553,908,2,941,2614,13142,3,346,230,6460,148,13975,4,1528,2304,1236,10486,2013,13613,4764,2658,4243,2458,656,30,13628,2305,638,7080,3772,3494,3934,2521,3297,2539,4094,19,3120,5,908,3,3541,1,14710,1816,281,912,5992,15331,2,1395,1344,371,2,3057,6166,6138,592,1532,2379,1678,744,2349,3503,1576,3,472,8412,1160,1269,5139,291,2381,2718,4546,3,125,3852,753,743,360,5029,459,2427,2,1,12,7711,1933,190,1,2445,1596,981,1349,1771,558,2073,2253,1044,50,1215,270,627,1661,49,259,335,665,2,241,551,2371,5,687,118,1320,517,372,1091,531,94,54,2,173,199,35,416,770,753,31,670,1718,584,12,241,967,138,715,410,569,1154,367,70,6,414,784,394,41,43,721,1271,356,1550,475,8,5582246,226,220,73,208,2,5996585,206,2800491,882,444,1,2,80,1,1796,1,9,2553,1,748,141,795,563,1,4265,1,1,2,1331,4142,2609,155,17,13,72,139,4,2,20,2,169,13,19,46,5,39,96,548,29,2,2,1,2,1,2,2,7,4,1,2,2,2,2,2,2,353,513,186,1,1,158,3,2,2,2,2,2,4,2,3,3,269,291,53,50,8,8,39,22,30,4,21,23654331,299866,2862027,1179324,338,3,2414,448,2,88,375,172,406,9,3243,1532,994',kBL:'94Ui'};google.sn='webhp';google.kHL='nl';})();(function(){\n",
            "var f=this||self;var h,k=[];function l(a){for(var b;a&&(!a.getAttribute||!(b=a.getAttribute(\"eid\")));)a=a.parentNode;return b||h}function m(a){for(var b=null;a&&(!a.getAttribute||!(b=a.getAttribute(\"leid\")));)a=a.parentNode;return b}\n",
            "function n(a,b,c,d,g){var e=\"\";c||-1!==b.search(\"&ei=\")||(e=\"&ei=\"+l(d),-1===b.search(\"&lei=\")&&(d=m(d))&&(e+=\"&lei=\"+d));d=\"\";!c&&f._cshid&&-1===b.search(\"&cshid=\")&&\"slh\"!==a&&(d=\"&cshid=\"+f._cshid);c=c||\"/\"+(g||\"gen_204\")+\"?atyp=i&ct=\"+a+\"&cad=\"+b+e+\"&zx=\"+Date.now()+d;/^http:/i.test(c)&&\"https:\"===window.location.protocol&&(google.ml&&google.ml(Error(\"a\"),!1,{src:c,glmm:1}),c=\"\");return c};h=google.kEI;google.getEI=l;google.getLEI=m;google.ml=function(){return null};google.log=function(a,b,c,d,g){if(c=n(a,b,c,d,g)){a=new Image;var e=k.length;k[e]=a;a.onerror=a.onload=a.onabort=function(){delete k[e]};a.src=c}};google.logUrl=n;}).call(this);(function(){\n",
            "google.y={};google.sy=[];google.x=function(a,b){if(a)var c=a.id;else{do c=Math.random();while(google.y[c])}google.y[c]=[a,b];return!1};google.sx=function(a){google.sy.push(a)};google.lm=[];google.plm=function(a){google.lm.push.apply(google.lm,a)};google.lq=[];google.load=function(a,b,c){google.lq.push([[a],b,c])};google.loadAll=function(a,b){google.lq.push([a,b])};google.bx=!1;google.lx=function(){};}).call(this);google.f={};(function(){\n",
            "document.documentElement.addEventListener(\"submit\",function(b){var a;if(a=b.target){var c=a.getAttribute(\"data-submitfalse\");a=\"1\"==c||\"q\"==c&&!a.elements.q.value?!0:!1}else a=!1;a&&(b.preventDefault(),b.stopPropagation())},!0);document.documentElement.addEventListener(\"click\",function(b){var a;a:{for(a=b.target;a&&a!=document.documentElement;a=a.parentElement)if(\"A\"==a.tagName){a=\"1\"==a.getAttribute(\"data-nohref\");break a}a=!1}a&&b.preventDefault()},!0);}).call(this);</script><style>#gbar,#guser{font-size:13px;padding-top:1px !important;}#gbar{height:22px}#guser{padding-bottom:7px !important;text-align:right}.gbh,.gbd{border-top:1px solid #c9d7f1;font-size:1px}.gbh{height:0;position:absolute;top:24px;width:100%}@media all{.gb1{height:22px;margin-right:.5em;vertical-align:top}#gbar{float:left}}a.gb1,a.gb4{text-decoration:underline !important}a.gb1,a.gb4{color:#00c !important}.gbi .gb4{color:#dd8e27 !important}.gbf .gb4{color:#900 !important}\n",
            "</style><style>body,td,a,p,.h{font-family:arial,sans-serif}body{margin:0;overflow-y:scroll}#gog{padding:3px 8px 0}td{line-height:.8em}.gac_m td{line-height:17px}form{margin-bottom:20px}.h{color:#1558d6}em{font-weight:bold;font-style:normal}.lst{height:25px;width:496px}.gsfi,.lst{font:18px arial,sans-serif}.gsfs{font:17px arial,sans-serif}.ds{display:inline-box;display:inline-block;margin:3px 0 4px;margin-left:4px}input{font-family:inherit}body{background:#fff;color:#000}a{color:#4b11a8;text-decoration:none}a:hover,a:active{text-decoration:underline}.fl a{color:#1558d6}a:visited{color:#4b11a8}.sblc{padding-top:5px}.sblc a{display:block;margin:2px 0;margin-left:13px;font-size:11px}.lsbb{background:#f8f9fa;border:solid 1px;border-color:#dadce0 #70757a #70757a #dadce0;height:30px}.lsbb{display:block}#WqQANb a{display:inline-block;margin:0 12px}.lsb{background:url(/images/nav_logo229.png) 0 -261px repeat-x;border:none;color:#000;cursor:pointer;height:30px;margin:0;outline:0;font:15px arial,sans-serif;vertical-align:top}.lsb:active{background:#dadce0}.lst:focus{outline:none}</style><script nonce=\"j+hGEuAqqjCJdWjgV9krAA==\"></script></head><body bgcolor=\"#fff\"><script nonce=\"j+hGEuAqqjCJdWjgV9krAA==\">(function(){var src='/images/nav_logo229.png';var iesg=false;document.body.onload = function(){window.n && window.n();if (document.images){new Image().src=src;}\n",
            "if (!iesg){document.f&&document.f.q.focus();document.gbqf&&document.gbqf.q.focus();}\n",
            "}\n",
            "})();</script><div id=\"mngb\"><div id=gbar><nobr><b class=gb1>Zoeken</b> <a class=gb1 href=\"https://www.google.nl/imghp?hl=nl&tab=wi\">Afbeeldingen</a> <a class=gb1 href=\"https://maps.google.nl/maps?hl=nl&tab=wl\">Maps</a> <a class=gb1 href=\"https://play.google.com/?hl=nl&tab=w8\">Play</a> <a class=gb1 href=\"https://www.youtube.com/?gl=NL&tab=w1\">YouTube</a> <a class=gb1 href=\"https://news.google.com/?tab=wn\">Nieuws</a> <a class=gb1 href=\"https://mail.google.com/mail/?tab=wm\">Gmail</a> <a class=gb1 href=\"https://drive.google.com/?tab=wo\">Drive</a> <a class=gb1 style=\"text-decoration:none\" href=\"https://www.google.nl/intl/nl/about/products?tab=wh\"><u>Meer</u> &raquo;</a></nobr></div><div id=guser width=100%><nobr><span id=gbn class=gbi></span><span id=gbf class=gbf></span><span id=gbe></span><a href=\"http://www.google.nl/history/optout?hl=nl\" class=gb4>Webgeschiedenis</a> | <a  href=\"/preferences?hl=nl\" class=gb4>Instellingen</a> | <a target=_top id=gb_70 href=\"https://accounts.google.com/ServiceLogin?hl=nl&passive=true&continue=https://www.google.com/&ec=GAZAAQ\" class=gb4>Inloggen</a></nobr></div><div class=gbh style=left:0></div><div class=gbh style=right:0></div></div><center><br clear=\"all\" id=\"lgpd\"><div id=\"lga\"><img alt=\"Google\" height=\"92\" src=\"/images/branding/googlelogo/1x/googlelogo_white_background_color_272x92dp.png\" style=\"padding:28px 0 14px\" width=\"272\" id=\"hplogo\"><br><br></div><form action=\"/search\" name=\"f\"><table cellpadding=\"0\" cellspacing=\"0\"><tr valign=\"top\"><td width=\"25%\">&nbsp;</td><td align=\"center\" nowrap=\"\"><input name=\"ie\" value=\"ISO-8859-1\" type=\"hidden\"><input value=\"nl\" name=\"hl\" type=\"hidden\"><input name=\"source\" type=\"hidden\" value=\"hp\"><input name=\"biw\" type=\"hidden\"><input name=\"bih\" type=\"hidden\"><div class=\"ds\" style=\"height:32px;margin:4px 0\"><input class=\"lst\" style=\"margin:0;padding:5px 8px 0 6px;vertical-align:top;color:#000\" autocomplete=\"off\" value=\"\" title=\"Google zoeken\" maxlength=\"2048\" name=\"q\" size=\"57\"></div><br style=\"line-height:0\"><span class=\"ds\"><span class=\"lsbb\"><input class=\"lsb\" value=\"Google zoeken\" name=\"btnG\" type=\"submit\"></span></span><span class=\"ds\"><span class=\"lsbb\"><input class=\"lsb\" id=\"tsuid1\" value=\"Ik doe een gok\" name=\"btnI\" type=\"submit\"><script nonce=\"j+hGEuAqqjCJdWjgV9krAA==\">(function(){var id='tsuid1';document.getElementById(id).onclick = function(){if (this.form.q.value){this.checked = 1;if (this.form.iflsig)this.form.iflsig.disabled = false;}\n",
            "else top.location='/doodles/';};})();</script><input value=\"ALs-wAMAAAAAYTWCPuj-6uwosJ6gXZN9t3SLrNpuW24U\" name=\"iflsig\" type=\"hidden\"></span></span></td><td class=\"fl sblc\" align=\"left\" nowrap=\"\" width=\"25%\"><a href=\"/advanced_search?hl=nl&amp;authuser=0\">Geavanceerd zoeken</a></td></tr></table><input id=\"gbv\" name=\"gbv\" type=\"hidden\" value=\"1\"><script nonce=\"j+hGEuAqqjCJdWjgV9krAA==\">(function(){\n",
            "var a,b=\"1\";if(document&&document.getElementById)if(\"undefined\"!=typeof XMLHttpRequest)b=\"2\";else if(\"undefined\"!=typeof ActiveXObject){var c,d,e=[\"MSXML2.XMLHTTP.6.0\",\"MSXML2.XMLHTTP.3.0\",\"MSXML2.XMLHTTP\",\"Microsoft.XMLHTTP\"];for(c=0;d=e[c++];)try{new ActiveXObject(d),b=\"2\"}catch(h){}}a=b;if(\"2\"==a&&-1==location.search.indexOf(\"&gbv=2\")){var f=google.gbvu,g=document.getElementById(\"gbv\");g&&(g.value=a);f&&window.setTimeout(function(){location.href=f},0)};}).call(this);</script></form><div id=\"gac_scont\"></div><div style=\"font-size:83%;min-height:3.5em\"><br><div id=\"gws-output-pages-elements-homepage_additional_languages__als\"><style>#gws-output-pages-elements-homepage_additional_languages__als{font-size:small;margin-bottom:24px}#SIvCob{color:#3c4043;display:inline-block;line-height:28px;}#SIvCob a{padding:0 3px;}.H6sW5{display:inline-block;margin:0 2px;white-space:nowrap}.z4hgWe{display:inline-block;margin:0 2px}</style><div id=\"SIvCob\">Google aangeboden in:  <a href=\"https://www.google.com/setprefs?sig=0_uw-rn6JMgGzYSfTLg1-tLZG5VKs%3D&amp;hl=fy&amp;source=homepage&amp;sa=X&amp;ved=0ahUKEwjRsaqgnunyAhVFP-wKHaDTDIMQ2ZgBCAU\">Frysk</a>  </div></div></div><span id=\"footer\"><div style=\"font-size:10pt\"><div style=\"margin:19px auto;text-align:center\" id=\"WqQANb\"><a href=\"/intl/nl/ads/\">Advertentieprogramma's</a><a href=\"http://www.google.nl/intl/nl/services/\">Bedrijfsoplossingen</a><a href=\"/intl/nl/about.html\">Alles over Google</a><a href=\"https://www.google.com/setprefdomain?prefdom=NL&amp;prev=https://www.google.nl/&amp;sig=K_iMJoFPjKsfQPc20DlO1Doq6GqSc%3D\">Google.nl</a></div></div><p style=\"font-size:8pt;color:#70757a\">&copy; 2021 - <a href=\"/intl/nl/policies/privacy/\">Privacy</a> - <a href=\"/intl/nl/policies/terms/\">Voorwaarden</a></p></span></center><script nonce=\"j+hGEuAqqjCJdWjgV9krAA==\">(function(){window.google.cdo={height:757,width:1440};(function(){\n",
            "var a=window.innerWidth,b=window.innerHeight;if(!a||!b){var c=window.document,d=\"CSS1Compat\"==c.compatMode?c.documentElement:c.body;a=d.clientWidth;b=d.clientHeight}a&&b&&(a!=google.cdo.width||b!=google.cdo.height)&&google.log(\"\",\"\",\"/client_204?&atyp=i&biw=\"+a+\"&bih=\"+b+\"&ei=\"+google.kEI);}).call(this);})();</script> <script nonce=\"j+hGEuAqqjCJdWjgV9krAA==\">(function(){google.xjs={ck:'',cs:'',excm:[]};})();</script>  <script nonce=\"j+hGEuAqqjCJdWjgV9krAA==\">(function(){var u='/xjs/_/js/k\\x3dxjs.hp.en.uJVE4aH5PNY.O/am\\x3dAPgEWA/d\\x3d1/ed\\x3d1/rs\\x3dACT90oH46UR8q8EWogvmv18iTgG_1SJR5A/m\\x3dsb_he,d';\n",
            "var e=this||self,f=function(a){return a};var g;var l=function(a,b){this.g=b===h?a:\"\"};l.prototype.toString=function(){return this.g+\"\"};var h={};function m(){var a=u;google.lx=function(){n(a);google.lx=function(){}};google.bx||google.lx()}\n",
            "function n(a){google.timers&&google.timers.load&&google.tick&&google.tick(\"load\",\"xjsls\");var b=document;var c=\"SCRIPT\";\"application/xhtml+xml\"===b.contentType&&(c=c.toLowerCase());c=b.createElement(c);if(void 0===g){b=null;var k=e.trustedTypes;if(k&&k.createPolicy){try{b=k.createPolicy(\"goog#html\",{createHTML:f,createScript:f,createScriptURL:f})}catch(p){e.console&&e.console.error(p.message)}g=b}else g=b}a=(b=g)?b.createScriptURL(a):a;a=new l(a,h);c.src=a instanceof l&&a.constructor===l?a.g:\"type_error:TrustedResourceUrl\";var d;a=(c.ownerDocument&&c.ownerDocument.defaultView||window).document;(d=(b=null===(d=a.querySelector)||void 0===d?void 0:d.call(a,\"script[nonce]\"))?b.nonce||b.getAttribute(\"nonce\")||\"\":\"\")&&c.setAttribute(\"nonce\",d);document.body.appendChild(c);google.psa=!0};setTimeout(function(){m()},0);})();(function(){window.google.xjsu='/xjs/_/js/k\\x3dxjs.hp.en.uJVE4aH5PNY.O/am\\x3dAPgEWA/d\\x3d1/ed\\x3d1/rs\\x3dACT90oH46UR8q8EWogvmv18iTgG_1SJR5A/m\\x3dsb_he,d';})();function _DumpException(e){throw e;}\n",
            "function _F_installCss(c){}\n",
            "(function(){google.jl={attn:false,blt:'none',chnk:0,dw:false,emtn:0,end:0,ine:false,lls:'default',pdt:0,rep:0,sif:true,snet:true,strt:0,ubm:false,uwp:true};})();(function(){var pmc='{\\x22d\\x22:{},\\x22sb_he\\x22:{\\x22agen\\x22:true,\\x22cgen\\x22:true,\\x22client\\x22:\\x22heirloom-hp\\x22,\\x22dh\\x22:true,\\x22dhqt\\x22:true,\\x22ds\\x22:\\x22\\x22,\\x22ffql\\x22:\\x22en\\x22,\\x22fl\\x22:true,\\x22host\\x22:\\x22google.com\\x22,\\x22isbh\\x22:28,\\x22jsonp\\x22:true,\\x22msgs\\x22:{\\x22cibl\\x22:\\x22Zoekopdracht wissen\\x22,\\x22dym\\x22:\\x22Bedoelde je:\\x22,\\x22lcky\\x22:\\x22Ik doe een gok\\x22,\\x22lml\\x22:\\x22Meer informatie\\x22,\\x22oskt\\x22:\\x22Invoertools\\x22,\\x22psrc\\x22:\\x22Deze zoekopdracht is verwijderd uit je \\\\u003Ca href\\x3d\\\\\\x22/history\\\\\\x22\\\\u003EWebgeschiedenis\\\\u003C/a\\\\u003E\\x22,\\x22psrl\\x22:\\x22Verwijderen\\x22,\\x22sbit\\x22:\\x22Zoeken op afbeelding\\x22,\\x22srch\\x22:\\x22Google zoeken\\x22},\\x22ovr\\x22:{},\\x22pq\\x22:\\x22\\x22,\\x22refpd\\x22:true,\\x22rfs\\x22:[],\\x22sbas\\x22:\\x220 3px 8px 0 rgba(0,0,0,0.2),0 0 0 1px rgba(0,0,0,0.08)\\x22,\\x22sbpl\\x22:16,\\x22sbpr\\x22:16,\\x22scd\\x22:10,\\x22stok\\x22:\\x22ECd4zGT27-gIvowVxlWKRTbAOGw\\x22,\\x22uhde\\x22:false}}';google.pmc=JSON.parse(pmc);})();</script>        </body></html>\n"
          ]
        }
      ]
    },
    {
      "cell_type": "markdown",
      "metadata": {
        "id": "CYA_McBU4-CB"
      },
      "source": [
        "Write a simple script that serves a asimple HTTPR response and a simple HTML page"
      ]
    },
    {
      "cell_type": "markdown",
      "metadata": {
        "id": "XAzoVmC2tWpL"
      },
      "source": [
        " DESCRIPTION: HTTP Protocol The most important part of a web server is HTTP protocol.So now we will see what exactly this is – It stands for Hyper Text Transfer Protocol. It is an application layer protocol that allows web based applications to communicate and exchange data. The HTTP is the messenger of web. The computer that communicate via the HTTP must speak the HTTP protocol. It is a TCP/IP based protocol. It is used to deliver contents, for eg. images, audios, videos, documents etc. Using HTTP is the most convenient way to quickly and reliably move data on the web. HTML stands for hypertext markup language. It is the standard markup language for web pages that define the structure of the content. These elements are the building blocks of any website\n",
        "\n"
      ]
    },
    {
      "cell_type": "code",
      "metadata": {
        "id": "dRDf62JJ5LQj"
      },
      "source": [
        "from flask import Flask,render_template\n",
        "app=Flask(_name_)\n",
        "print(app)\n",
        "@app.route(\"/\")\n",
        "def main():\n",
        "  return render_template('login.html')\n",
        "\n",
        "if_name==\"main_\":\n",
        "  app.run(host=\"127.0.0.1\",port=2500)"
      ],
      "execution_count": null,
      "outputs": []
    },
    {
      "cell_type": "markdown",
      "metadata": {
        "id": "2mzBla6JGbtL"
      },
      "source": [
        "# EXCERCISE-13\n",
        "*A.class variables and instance variable and illustration of the self-variable*"
      ]
    },
    {
      "cell_type": "markdown",
      "metadata": {
        "id": "s_iAGLKFtkVP"
      },
      "source": [
        "DESCRIPTION: Variables are named storage location. In python variables are not defined by its type instead it will be automatically determined by the value assigned to it. To determine the type of a variable a function called type () is used. class variable is shared by all object instances of a class. .... They are not defined inside any methods of a class. Because a class variable is shared by instances of a class, the Python class owns the variable. As a result, all instances of the class will be able to access that variable Instance variables are owned by instances of the class. This means that for each object or instance of a class, the instance variables are different..... Instance variables, owned by objects of the class, allow for each object or instance to have different values assigned to those variables self variable is used to bind the instance of the class to the instance method. We have to explicitly declare it as the first method argument to access the instance variables and methods. This variable is used only with the instance methods."
      ]
    },
    {
      "cell_type": "code",
      "metadata": {
        "colab": {
          "base_uri": "https://localhost:8080/"
        },
        "id": "ACXCR3DoGvLq",
        "outputId": "5e9decfd-3a12-4698-d457-fcd9c227de11"
      },
      "source": [
        "class Robot:\n",
        "  What=\"Machine\"\n",
        "  name=\"chinni\"\n",
        "  version=1.0\n",
        "  speed=\"1THz\"\n",
        "  memory=\"1ZB\"\n",
        "\n",
        "  def update(upd):\n",
        "    upd.version=2.0\n",
        "    upd.speed=\"2THz\"\n",
        "    upd.memory=\"2ZB\"\n",
        "\n",
        "  \n",
        "  def disp(self):\n",
        "    print(\"Myself is:\",robj.What)\n",
        "    print(\"Myname is:\",robj.name)\n",
        "    print(\"version:\",robj.version)\n",
        "    print(\"speed:\",robj.speed)\n",
        "    print(\"Memory:\",robj.memory)\n",
        "    \n",
        "\n",
        " \n",
        "robj=Robot()\n",
        "robj.disp()\n",
        "\n",
        "print(\"--------------UPDATE---------------\")\n",
        "robj.update()\n",
        "robj.disp()\n",
        "  \n"
      ],
      "execution_count": null,
      "outputs": [
        {
          "output_type": "stream",
          "text": [
            "Myself is: Machine\n",
            "Myname is: chinni\n",
            "version: 1.0\n",
            "speed: 1THz\n",
            "Memory: 1ZB\n",
            "--------------UPDATE---------------\n",
            "Myself is: Machine\n",
            "Myname is: chinni\n",
            "version: 2.0\n",
            "speed: 2THz\n",
            "Memory: 2ZB\n"
          ],
          "name": "stdout"
        }
      ]
    },
    {
      "cell_type": "markdown",
      "metadata": {
        "id": "tTgoqKV5J7oe"
      },
      "source": [
        "B.*ATM* *machine*"
      ]
    },
    {
      "cell_type": "code",
      "metadata": {
        "colab": {
          "base_uri": "https://localhost:8080/"
        },
        "id": "JQkV3GjtKDbs",
        "outputId": "20b1455a-bc54-4c1a-9d5e-7b7e9a82c71c"
      },
      "source": [
        "class Atm:\n",
        "    def __init__(self):\n",
        "       self.balance=0\n",
        "       \n",
        "    def enquire(self):\n",
        "       print(\"balance\",self.balance)\n",
        "       \n",
        "    def deposit(self):\n",
        "       amount=int(input(\"Enter deposite amount=\"))\n",
        "       self.balance+=amount\n",
        "       self.enquire()\n",
        "\n",
        "    def withdraw(self):\n",
        "       amount=int(input(\"Enter withdraw amount=\"))\n",
        "       if self.balance<amount:\n",
        "        print(\"Insufficient balance\")\n",
        "       else:\n",
        "        self.balance-=amount\n",
        "        self.enquire()\n",
        "\n",
        "aobj=Atm()\n",
        "while(True):\n",
        "    print(\"----------Menu----------\")\n",
        "    print(\"1.Deposite\")\n",
        "    print(\"2.Withdraw\")\n",
        "    print(\"3.Balance\")\n",
        "    print(\"0.Exit\")\n",
        "\n",
        "    ch=int(input(\"Enter your choice=\"))\n",
        "\n",
        "    if ch==0:\n",
        "        break\n",
        "    elif ch==1:\n",
        "        aobj.deposit()\n",
        "    elif ch==2:\n",
        "        aobj.withdraw()\n",
        "    elif ch==3:\n",
        "        aobj.enquire()\n",
        "    else:\n",
        "        print(\"Invalid choice\")\n",
        "        pass"
      ],
      "execution_count": null,
      "outputs": [
        {
          "output_type": "stream",
          "text": [
            "----------Menu----------\n",
            "1.Deposite\n",
            "2.Withdraw\n",
            "3.Balance\n",
            "0.Exit\n",
            "Enter your choice=1\n",
            "Enter deposite amount=100\n",
            "balance 100\n",
            "----------Menu----------\n",
            "1.Deposite\n",
            "2.Withdraw\n",
            "3.Balance\n",
            "0.Exit\n",
            "Enter your choice=1\n",
            "Enter deposite amount=1000\n",
            "balance 1100\n",
            "----------Menu----------\n",
            "1.Deposite\n",
            "2.Withdraw\n",
            "3.Balance\n",
            "0.Exit\n",
            "Enter your choice=2\n",
            "Enter withdraw amount=100\n",
            "balance 1000\n",
            "----------Menu----------\n",
            "1.Deposite\n",
            "2.Withdraw\n",
            "3.Balance\n",
            "0.Exit\n",
            "Enter your choice=0\n"
          ],
          "name": "stdout"
        }
      ]
    },
    {
      "cell_type": "markdown",
      "metadata": {
        "id": "J7RTCaA7PPmL"
      },
      "source": [
        "EXCERISCE-14\n",
        "GUI"
      ]
    },
    {
      "cell_type": "markdown",
      "metadata": {
        "id": "YrBdw07EuEkJ"
      },
      "source": [
        "DESCRIPTION: Tkinter is a Python package which comes with many functions and methods that can be used to create an application. In order to create a tkinter application, we generally create an instance of tkinter frame, i.e., Tk(). It helps to display the root window and manages all the other components of the tkinter application. We can initialize the tkinter instance by assigning the variable to it."
      ]
    },
    {
      "cell_type": "code",
      "metadata": {
        "id": "ynr7aWXWnl9K"
      },
      "source": [
        "from tkinter import *\n",
        "\n",
        "win=Tk()\n",
        "win.geometry(\"312x324\")  \n",
        "win.resizable(0, 0) \n",
        "win.title(\"Calculator\")\n",
        "\n",
        "\n",
        "\n",
        "def btn_click(item):\n",
        "    global expression\n",
        "    expression = expression + str(item)\n",
        "    input_text.set(expression)\n",
        "\n",
        "\n",
        "def bt_clear(): \n",
        "    global expression \n",
        "    expression = \"\"\n",
        "    input_text.set(\"\")\n",
        "\n",
        "\n",
        "\n",
        "def bt_equal():\n",
        "    global expression\n",
        "    result = str(eval(expression))\n",
        "    input_text.set(result)\n",
        "    expression = \"\"\n",
        "\n",
        "expression = \"\"\n",
        "\n",
        "\n",
        "input_text = StringVar()\n",
        "\n",
        "\n",
        "\n",
        "input_frame = Frame(win, width=312, height=50, bd=0, highlightbackground=\"black\", highlightcolor=\"black\", highlightthickness=2)\n",
        "\n",
        "input_frame.pack(side=TOP)\n",
        "input_field = Entry(input_frame, font=('arial', 18, 'bold'), textvariable=input_text, width=50, bg=\"#eee\", bd=0, justify=RIGHT)\n",
        "\n",
        "input_field.grid(row=0, column=0)\n",
        "\n",
        "input_field.pack(ipady=10)\n",
        "\n",
        "\n",
        "btns_frame = Frame(win, width=312, height=272.5, bg=\"grey\")\n",
        "\n",
        "btns_frame.pack()\n",
        "\n",
        "# first row\n",
        "\n",
        "clear = Button(btns_frame, text = \"C\", fg = \"black\", width = 32, height = 3, bd = 0, bg = \"#eee\", cursor = \"hand2\", command = lambda: bt_clear()).grid(row = 0, column = 0, columnspan = 3, padx = 1, pady = 1)\n",
        "\n",
        "divide = Button(btns_frame, text = \"/\", fg = \"black\", width = 10, height = 3, bd = 0, bg = \"#eee\", cursor = \"hand2\", command = lambda: btn_click(\"/\")).grid(row = 0, column = 3, padx = 1, pady = 1)\n",
        "\n",
        "# second row\n",
        "\n",
        "seven = Button(btns_frame, text = \"7\", fg = \"black\", width = 10, height = 3, bd = 0, bg = \"#fff\", cursor = \"hand2\", command = lambda: btn_click(7)).grid(row = 1, column = 0, padx = 1, pady = 1)\n",
        "\n",
        "eight = Button(btns_frame, text = \"8\", fg = \"black\", width = 10, height = 3, bd = 0, bg = \"#fff\", cursor = \"hand2\", command = lambda: btn_click(8)).grid(row = 1, column = 1, padx = 1, pady = 1)\n",
        "\n",
        "nine = Button(btns_frame, text = \"9\", fg = \"black\", width = 10, height = 3, bd = 0, bg = \"#fff\", cursor = \"hand2\", command = lambda: btn_click(9)).grid(row = 1, column = 2, padx = 1, pady = 1)\n",
        "\n",
        "multiply = Button(btns_frame, text = \"\", fg = \"black\", width = 10, height = 3, bd = 0, bg = \"#eee\", cursor = \"hand2\", command = lambda: btn_click(\"\")).grid(row = 1, column = 3, padx = 1, pady = 1)\n",
        "\n",
        "# third row\n",
        "\n",
        "four = Button(btns_frame, text = \"4\", fg = \"black\", width = 10, height = 3, bd = 0, bg = \"#fff\", cursor = \"hand2\", command = lambda: btn_click(4)).grid(row = 2, column = 0, padx = 1, pady = 1)\n",
        "\n",
        "five = Button(btns_frame, text = \"5\", fg = \"black\", width = 10, height = 3, bd = 0, bg = \"#fff\", cursor = \"hand2\", command = lambda: btn_click(5)).grid(row = 2, column = 1, padx = 1, pady = 1)\n",
        "\n",
        "six = Button(btns_frame, text = \"6\", fg = \"black\", width = 10, height = 3, bd = 0, bg = \"#fff\", cursor = \"hand2\", command = lambda: btn_click(6)).grid(row = 2, column = 2, padx = 1, pady = 1)\n",
        "\n",
        "minus = Button(btns_frame, text = \"-\", fg = \"black\", width = 10, height = 3, bd = 0, bg = \"#eee\", cursor = \"hand2\", command = lambda: btn_click(\"-\")).grid(row = 2, column = 3, padx = 1, pady = 1)\n",
        "# fourth row\n",
        "\n",
        "one = Button(btns_frame, text = \"1\", fg = \"black\", width = 10, height = 3, bd = 0, bg = \"#fff\", cursor = \"hand2\", command = lambda: btn_click(1)).grid(row = 3, column = 0, padx = 1, pady = 1)\n",
        "\n",
        "two = Button(btns_frame, text = \"2\", fg = \"black\", width = 10, height = 3, bd = 0, bg = \"#fff\", cursor = \"hand2\", command = lambda: btn_click(2)).grid(row = 3, column = 1, padx = 1, pady = 1)\n",
        "\n",
        "three = Button(btns_frame, text = \"3\", fg = \"black\", width = 10, height = 3, bd = 0, bg = \"#fff\", cursor = \"hand2\", command = lambda: btn_click(3)).grid(row = 3, column = 2, padx = 1, pady = 1)\n",
        "\n",
        "plus = Button(btns_frame, text = \"+\", fg = \"black\", width = 10, height = 3, bd = 0, bg = \"#eee\", cursor = \"hand2\", command = lambda: btn_click(\"+\")).grid(row = 3, column = 3, padx = 1, pady = 1)\n",
        "\n",
        "# fifth row\n",
        "\n",
        "zero = Button(btns_frame, text = \"0\", fg = \"black\", width = 21, height = 3, bd = 0, bg = \"#fff\", cursor = \"hand2\", command = lambda: btn_click(0)).grid(row = 4, column = 0, columnspan = 2, padx = 1, pady = 1)\n",
        "\n",
        "point = Button(btns_frame, text = \".\", fg = \"black\", width = 10, height = 3, bd = 0, bg = \"#eee\", cursor = \"hand2\", command = lambda: btn_click(\".\")).grid(row = 4, column = 2, padx = 1, pady = 1)\n",
        "\n",
        "equals = Button(btns_frame, text = \"=\", fg = \"black\", width = 10, height = 3, bd = 0, bg = \"#eee\", cursor = \"hand2\", command = lambda: bt_equal()).grid(row = 4, column = 3, padx = 1, pady = 1)\n",
        "\n",
        "win.mainloop()"
      ],
      "execution_count": null,
      "outputs": []
    },
    {
      "cell_type": "markdown",
      "metadata": {
        "id": "j2WxwPLdomNY"
      },
      "source": [
        "EXCERICISE-15"
      ]
    },
    {
      "cell_type": "markdown",
      "metadata": {
        "id": "5ARqfxavnohc"
      },
      "source": [
        "AIM: b. Write a program to implement the following figures using turtle DESCRIPTION: The turtle module is an extended reimplementation of the same-named module from the Python standard distribution up to version Python 2.5. It tries to keep the merits of the old turtle module and to be (nearly) 100% compatible with it. This means in the first place to enable the learning programmer to use all the commands, classes and methods interactively when using the module from within IDLE run with the -n switch. The turtle module provides turtle graphics primitives, in both object-oriented and procedure- oriented ways. Because it uses tkinter for the underlying graphics, it needs a version of Python installed with Tk support"
      ]
    },
    {
      "cell_type": "code",
      "metadata": {
        "colab": {
          "base_uri": "https://localhost:8080/"
        },
        "id": "RMUNmiiFnw-F",
        "outputId": "fc8b7f61-6243-474d-f482-14ac368e1ed9"
      },
      "source": [
        "def evnNo(num):\n",
        "  stat=True\n",
        "  for i in num:\n",
        "    if i%2==1:\n",
        "      stat=False\n",
        "      break\n",
        "  return stat\n",
        "\n",
        "numbers=[]\n",
        "\n",
        "print(\"Enter the FIVE numbers\")\n",
        "for i in range(0,5):\n",
        "  numbers.append(int(input(\"Enter a value: \")))\n",
        "print(evnNo(numbers))"
      ],
      "execution_count": null,
      "outputs": [
        {
          "output_type": "stream",
          "name": "stdout",
          "text": [
            "Enter the FIVE numbers\n",
            "Enter a value: 1\n",
            "Enter a value: 2\n",
            "Enter a value: 4\n",
            "Enter a value: 5\n",
            "Enter a value: 6\n",
            "False\n"
          ]
        }
      ]
    },
    {
      "cell_type": "markdown",
      "metadata": {
        "id": "Sdd7y2WsoH0l"
      },
      "source": [
        "AIM: b)write a test-case to check the function reverse string which returns the reversed string DESCRIPTION: Python string library does’nt support the in-built “reverse()” as done by other python containers like list, hence knowing other methods to reverse string can prove to be useful. This article discusses several ways to achieve it. The reversed() returns the reversed iterator of the given string and then its elements are joined empty string separated using join(). And reversed order string is formed."
      ]
    },
    {
      "cell_type": "code",
      "metadata": {
        "colab": {
          "base_uri": "https://localhost:8080/"
        },
        "id": "tvptwOxjoI6m",
        "outputId": "e46450ca-ab30-4e1b-ac53-807c50207c3f"
      },
      "source": [
        "def rev_str(st):\n",
        "  return st[::-1]\n",
        "\n",
        "st=\"keerthi\" \n",
        "print(\"Given String is: \",st)\n",
        "\n",
        "print(\"Reverse is: \",rev_str(st))"
      ],
      "execution_count": null,
      "outputs": [
        {
          "output_type": "stream",
          "name": "stdout",
          "text": [
            "Given String is:  keerthi\n",
            "Reverse is:  ihtreek\n"
          ]
        }
      ]
    }
  ]
}