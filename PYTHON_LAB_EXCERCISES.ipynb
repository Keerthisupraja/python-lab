{
  "nbformat": 4,
  "nbformat_minor": 0,
  "metadata": {
    "colab": {
      "name": "PYTHON LAB EXCERCISES",
      "provenance": [],
      "authorship_tag": "ABX9TyMRiitxx4iOQuRrtSDFHz+e",
      "include_colab_link": true
    },
    "kernelspec": {
      "display_name": "Python 3",
      "name": "python3"
    },
    "language_info": {
      "name": "python"
    }
  },
  "cells": [
    {
      "cell_type": "markdown",
      "metadata": {
        "id": "view-in-github",
        "colab_type": "text"
      },
      "source": [
        "<a href=\"https://colab.research.google.com/github/Keerthisupraja/python-lab/blob/main/PYTHON_LAB_EXCERCISES.ipynb\" target=\"_parent\"><img src=\"https://colab.research.google.com/assets/colab-badge.svg\" alt=\"Open In Colab\"/></a>"
      ]
    },
    {
      "cell_type": "markdown",
      "metadata": {
        "id": "KKA0w-ydPDx9"
      },
      "source": [
        "**Name**:**k.keerthi** **supraja**\n",
        "\n",
        "**Reg no:19A21A0528**\n",
        "\n",
        "**Section:CSE-A**"
      ]
    },
    {
      "cell_type": "markdown",
      "metadata": {
        "id": "9TIiK98wSDO1"
      },
      "source": [
        "# EXCERCISE-1\n",
        "\n",
        "A.Running instructions"
      ]
    },
    {
      "cell_type": "code",
      "metadata": {
        "colab": {
          "background_save": true,
          "base_uri": "https://localhost:8080/"
        },
        "id": "ER3TilbnPSPO",
        "outputId": "29c56919-a7d6-4a56-a82a-5139bc29a12f"
      },
      "source": [
        "print(\"WELCOME TO PYTHON\")\n",
        "a=10\n",
        "b=20\n",
        "print(a+b)\n",
        "print(\"thank you\")"
      ],
      "execution_count": null,
      "outputs": [
        {
          "output_type": "stream",
          "text": [
            "WELCOME TO PYTHON\n",
            "30\n",
            "thank you\n"
          ],
          "name": "stdout"
        }
      ]
    },
    {
      "cell_type": "markdown",
      "metadata": {
        "id": "2OOEY25-P36j"
      },
      "source": [
        "B.Write a program to purposefully raise an indentation error and correct it"
      ]
    },
    {
      "cell_type": "code",
      "metadata": {
        "colab": {
          "base_uri": "https://localhost:8080/",
          "height": 129
        },
        "id": "OTdekwuvQDpC",
        "outputId": "228754a7-abe8-4822-e93e-58fd4a911444"
      },
      "source": [
        "a=10\n",
        "b=20\n",
        "if a>b:\n",
        "print(\"a\")\n",
        "else:\n",
        "print(\"b\")\n",
        "\n",
        "#correction\n",
        "#if a>b:\n",
        "#  print(\"a\")\n",
        "#else:\n",
        "#  print(\"b\")"
      ],
      "execution_count": null,
      "outputs": [
        {
          "output_type": "error",
          "ename": "IndentationError",
          "evalue": "ignored",
          "traceback": [
            "\u001b[0;36m  File \u001b[0;32m\"<ipython-input-2-fcf5912273ad>\"\u001b[0;36m, line \u001b[0;32m4\u001b[0m\n\u001b[0;31m    print(\"a\")\u001b[0m\n\u001b[0m        ^\u001b[0m\n\u001b[0;31mIndentationError\u001b[0m\u001b[0;31m:\u001b[0m expected an indented block\n"
          ]
        }
      ]
    },
    {
      "cell_type": "markdown",
      "metadata": {
        "id": "LjwcunijQhKU"
      },
      "source": [
        "#                                    EXCERCISE-2\n",
        "\n",
        "A.write a program to copute the distance between two points by taking input from the user."
      ]
    },
    {
      "cell_type": "code",
      "metadata": {
        "colab": {
          "base_uri": "https://localhost:8080/"
        },
        "id": "9a47XX2NRMCK",
        "outputId": "158fdfe7-b3d7-42d7-ca9d-a343c25b8fee"
      },
      "source": [
        "import math\n",
        "a=int(input(\"Enter value of a=\"))\n",
        "b=int(input(\"Enter value of b=\"))\n",
        "c=int(input(\"Enter value of c=\"))\n",
        "d=int(input(\"Enter value of d=\"))\n",
        "distance=math.sqrt(((b-a)**2)+((d-c)**2))\n",
        "print(\"Distance=\",distance)"
      ],
      "execution_count": null,
      "outputs": [
        {
          "output_type": "stream",
          "text": [
            "Enter value of a=3\n",
            "Enter value of b=7\n",
            "Enter value of c=4\n",
            "Enter value of d=10\n",
            "Distance= 7.211102550927978\n"
          ],
          "name": "stdout"
        }
      ]
    },
    {
      "cell_type": "markdown",
      "metadata": {
        "id": "943AorA6ReEp"
      },
      "source": [
        "###                                  EXCERCISE-3\n",
        "A.write a program for checking whether the given number is even or not"
      ]
    },
    {
      "cell_type": "code",
      "metadata": {
        "colab": {
          "base_uri": "https://localhost:8080/"
        },
        "id": "HqpiVfAVR1B5",
        "outputId": "3664c673-7c9a-491d-be16-7542120800b7"
      },
      "source": [
        "num=int(input(\"Enter a number:\"))\n",
        "if (num%2!=0):\n",
        "  print(num,\"is an odd number\")\n",
        "else:\n",
        "  print(num,\"is an even number\")"
      ],
      "execution_count": null,
      "outputs": [
        {
          "output_type": "stream",
          "text": [
            "Enter a number:10\n",
            "10 is an even number\n"
          ],
          "name": "stdout"
        }
      ]
    },
    {
      "cell_type": "markdown",
      "metadata": {
        "id": "U7BCrchnSANW"
      },
      "source": [
        "B.using for loop write a program that prints out the decimal equivalents to1/2,1/3,1/4.....1/10."
      ]
    },
    {
      "cell_type": "code",
      "metadata": {
        "colab": {
          "base_uri": "https://localhost:8080/"
        },
        "id": "Ke4SV1sdSV4i",
        "outputId": "64366dfb-96a2-464f-e81b-d072b0d71d10"
      },
      "source": [
        "n=int(input(\"enter value of n=\"))\n",
        "for i in range(2,n):\n",
        "\td=1/i\n",
        "\tprint(\"1/\"+str(i)+\"=\",d)"
      ],
      "execution_count": null,
      "outputs": [
        {
          "output_type": "stream",
          "text": [
            "enter value of n=10\n",
            "1/2= 0.5\n",
            "1/3= 0.3333333333333333\n",
            "1/4= 0.25\n",
            "1/5= 0.2\n",
            "1/6= 0.16666666666666666\n",
            "1/7= 0.14285714285714285\n",
            "1/8= 0.125\n",
            "1/9= 0.1111111111111111\n"
          ],
          "name": "stdout"
        }
      ]
    },
    {
      "cell_type": "markdown",
      "metadata": {
        "id": "o56EDU_qSjFs"
      },
      "source": [
        "C.write a program using for loop that loops over a sequence"
      ]
    },
    {
      "cell_type": "code",
      "metadata": {
        "colab": {
          "base_uri": "https://localhost:8080/"
        },
        "id": "tgcGrAGySwFW",
        "outputId": "0a9d8656-95f9-4dde-8664-678a51ece675"
      },
      "source": [
        "array=[10,\"abc\",'k',-10,\"keerthi\",9.8]\n",
        "print(\"array is:\",array)\n",
        "for i in array:\n",
        "\tprint(i)"
      ],
      "execution_count": null,
      "outputs": [
        {
          "output_type": "stream",
          "text": [
            "array is: [10, 'abc', 'k', -10, 'keerthi', 9.8]\n",
            "10\n",
            "abc\n",
            "k\n",
            "-10\n",
            "keerthi\n",
            "9.8\n"
          ],
          "name": "stdout"
        }
      ]
    },
    {
      "cell_type": "markdown",
      "metadata": {
        "id": "Zqnkw2e9S-Ph"
      },
      "source": [
        "D.write a program using while loop that asks the user for a number and prints a countdown from number to zero"
      ]
    },
    {
      "cell_type": "code",
      "metadata": {
        "colab": {
          "base_uri": "https://localhost:8080/"
        },
        "id": "6EU51R8MTMUu",
        "outputId": "3d1ce0b6-826f-403a-9e30-48bac9a4b5c7"
      },
      "source": [
        "num=int(input(\"enter the value:\"))\n",
        "while num>=0:\n",
        "\tprint(num)\n",
        "\tnum-=1"
      ],
      "execution_count": null,
      "outputs": [
        {
          "output_type": "stream",
          "text": [
            "enter the value:5\n",
            "5\n",
            "4\n",
            "3\n",
            "2\n",
            "1\n",
            "0\n"
          ],
          "name": "stdout"
        }
      ]
    },
    {
      "cell_type": "markdown",
      "metadata": {
        "id": "UfBleuOD5wh1"
      },
      "source": [
        "# EXCERCISE-4\n",
        "Find the sum of all primes bellow 2 million"
      ]
    },
    {
      "cell_type": "code",
      "metadata": {
        "colab": {
          "base_uri": "https://localhost:8080/"
        },
        "id": "5RTlcn7C6ATt",
        "outputId": "e58cea3c-ce37-41e9-bb11-f3ce10b5c732"
      },
      "source": [
        "n=int(input(\"Enter ending number=\"))\n",
        "\n",
        "st=\"\"\n",
        "sum=0\n",
        "\n",
        "for i in range(2,n):\n",
        "       \n",
        "    state=True\n",
        "    for j in range(2,i):\n",
        "        if(i%j)==0:\n",
        "            state=False\n",
        "            break;\n",
        "    if state==True:\n",
        "        st+=\" \"+str(i)\n",
        "               \n",
        "        sum+=i\n",
        "print(\"Prime numbers\")\n",
        "print(st)\n",
        "print(\"Sum of Prime numbers \",sum)"
      ],
      "execution_count": null,
      "outputs": [
        {
          "output_type": "stream",
          "text": [
            "Enter ending number=10000\n",
            "Prime numbers\n",
            " 2 3 5 7 11 13 17 19 23 29 31 37 41 43 47 53 59 61 67 71 73 79 83 89 97 101 103 107 109 113 127 131 137 139 149 151 157 163 167 173 179 181 191 193 197 199 211 223 227 229 233 239 241 251 257 263 269 271 277 281 283 293 307 311 313 317 331 337 347 349 353 359 367 373 379 383 389 397 401 409 419 421 431 433 439 443 449 457 461 463 467 479 487 491 499 503 509 521 523 541 547 557 563 569 571 577 587 593 599 601 607 613 617 619 631 641 643 647 653 659 661 673 677 683 691 701 709 719 727 733 739 743 751 757 761 769 773 787 797 809 811 821 823 827 829 839 853 857 859 863 877 881 883 887 907 911 919 929 937 941 947 953 967 971 977 983 991 997 1009 1013 1019 1021 1031 1033 1039 1049 1051 1061 1063 1069 1087 1091 1093 1097 1103 1109 1117 1123 1129 1151 1153 1163 1171 1181 1187 1193 1201 1213 1217 1223 1229 1231 1237 1249 1259 1277 1279 1283 1289 1291 1297 1301 1303 1307 1319 1321 1327 1361 1367 1373 1381 1399 1409 1423 1427 1429 1433 1439 1447 1451 1453 1459 1471 1481 1483 1487 1489 1493 1499 1511 1523 1531 1543 1549 1553 1559 1567 1571 1579 1583 1597 1601 1607 1609 1613 1619 1621 1627 1637 1657 1663 1667 1669 1693 1697 1699 1709 1721 1723 1733 1741 1747 1753 1759 1777 1783 1787 1789 1801 1811 1823 1831 1847 1861 1867 1871 1873 1877 1879 1889 1901 1907 1913 1931 1933 1949 1951 1973 1979 1987 1993 1997 1999 2003 2011 2017 2027 2029 2039 2053 2063 2069 2081 2083 2087 2089 2099 2111 2113 2129 2131 2137 2141 2143 2153 2161 2179 2203 2207 2213 2221 2237 2239 2243 2251 2267 2269 2273 2281 2287 2293 2297 2309 2311 2333 2339 2341 2347 2351 2357 2371 2377 2381 2383 2389 2393 2399 2411 2417 2423 2437 2441 2447 2459 2467 2473 2477 2503 2521 2531 2539 2543 2549 2551 2557 2579 2591 2593 2609 2617 2621 2633 2647 2657 2659 2663 2671 2677 2683 2687 2689 2693 2699 2707 2711 2713 2719 2729 2731 2741 2749 2753 2767 2777 2789 2791 2797 2801 2803 2819 2833 2837 2843 2851 2857 2861 2879 2887 2897 2903 2909 2917 2927 2939 2953 2957 2963 2969 2971 2999 3001 3011 3019 3023 3037 3041 3049 3061 3067 3079 3083 3089 3109 3119 3121 3137 3163 3167 3169 3181 3187 3191 3203 3209 3217 3221 3229 3251 3253 3257 3259 3271 3299 3301 3307 3313 3319 3323 3329 3331 3343 3347 3359 3361 3371 3373 3389 3391 3407 3413 3433 3449 3457 3461 3463 3467 3469 3491 3499 3511 3517 3527 3529 3533 3539 3541 3547 3557 3559 3571 3581 3583 3593 3607 3613 3617 3623 3631 3637 3643 3659 3671 3673 3677 3691 3697 3701 3709 3719 3727 3733 3739 3761 3767 3769 3779 3793 3797 3803 3821 3823 3833 3847 3851 3853 3863 3877 3881 3889 3907 3911 3917 3919 3923 3929 3931 3943 3947 3967 3989 4001 4003 4007 4013 4019 4021 4027 4049 4051 4057 4073 4079 4091 4093 4099 4111 4127 4129 4133 4139 4153 4157 4159 4177 4201 4211 4217 4219 4229 4231 4241 4243 4253 4259 4261 4271 4273 4283 4289 4297 4327 4337 4339 4349 4357 4363 4373 4391 4397 4409 4421 4423 4441 4447 4451 4457 4463 4481 4483 4493 4507 4513 4517 4519 4523 4547 4549 4561 4567 4583 4591 4597 4603 4621 4637 4639 4643 4649 4651 4657 4663 4673 4679 4691 4703 4721 4723 4729 4733 4751 4759 4783 4787 4789 4793 4799 4801 4813 4817 4831 4861 4871 4877 4889 4903 4909 4919 4931 4933 4937 4943 4951 4957 4967 4969 4973 4987 4993 4999 5003 5009 5011 5021 5023 5039 5051 5059 5077 5081 5087 5099 5101 5107 5113 5119 5147 5153 5167 5171 5179 5189 5197 5209 5227 5231 5233 5237 5261 5273 5279 5281 5297 5303 5309 5323 5333 5347 5351 5381 5387 5393 5399 5407 5413 5417 5419 5431 5437 5441 5443 5449 5471 5477 5479 5483 5501 5503 5507 5519 5521 5527 5531 5557 5563 5569 5573 5581 5591 5623 5639 5641 5647 5651 5653 5657 5659 5669 5683 5689 5693 5701 5711 5717 5737 5741 5743 5749 5779 5783 5791 5801 5807 5813 5821 5827 5839 5843 5849 5851 5857 5861 5867 5869 5879 5881 5897 5903 5923 5927 5939 5953 5981 5987 6007 6011 6029 6037 6043 6047 6053 6067 6073 6079 6089 6091 6101 6113 6121 6131 6133 6143 6151 6163 6173 6197 6199 6203 6211 6217 6221 6229 6247 6257 6263 6269 6271 6277 6287 6299 6301 6311 6317 6323 6329 6337 6343 6353 6359 6361 6367 6373 6379 6389 6397 6421 6427 6449 6451 6469 6473 6481 6491 6521 6529 6547 6551 6553 6563 6569 6571 6577 6581 6599 6607 6619 6637 6653 6659 6661 6673 6679 6689 6691 6701 6703 6709 6719 6733 6737 6761 6763 6779 6781 6791 6793 6803 6823 6827 6829 6833 6841 6857 6863 6869 6871 6883 6899 6907 6911 6917 6947 6949 6959 6961 6967 6971 6977 6983 6991 6997 7001 7013 7019 7027 7039 7043 7057 7069 7079 7103 7109 7121 7127 7129 7151 7159 7177 7187 7193 7207 7211 7213 7219 7229 7237 7243 7247 7253 7283 7297 7307 7309 7321 7331 7333 7349 7351 7369 7393 7411 7417 7433 7451 7457 7459 7477 7481 7487 7489 7499 7507 7517 7523 7529 7537 7541 7547 7549 7559 7561 7573 7577 7583 7589 7591 7603 7607 7621 7639 7643 7649 7669 7673 7681 7687 7691 7699 7703 7717 7723 7727 7741 7753 7757 7759 7789 7793 7817 7823 7829 7841 7853 7867 7873 7877 7879 7883 7901 7907 7919 7927 7933 7937 7949 7951 7963 7993 8009 8011 8017 8039 8053 8059 8069 8081 8087 8089 8093 8101 8111 8117 8123 8147 8161 8167 8171 8179 8191 8209 8219 8221 8231 8233 8237 8243 8263 8269 8273 8287 8291 8293 8297 8311 8317 8329 8353 8363 8369 8377 8387 8389 8419 8423 8429 8431 8443 8447 8461 8467 8501 8513 8521 8527 8537 8539 8543 8563 8573 8581 8597 8599 8609 8623 8627 8629 8641 8647 8663 8669 8677 8681 8689 8693 8699 8707 8713 8719 8731 8737 8741 8747 8753 8761 8779 8783 8803 8807 8819 8821 8831 8837 8839 8849 8861 8863 8867 8887 8893 8923 8929 8933 8941 8951 8963 8969 8971 8999 9001 9007 9011 9013 9029 9041 9043 9049 9059 9067 9091 9103 9109 9127 9133 9137 9151 9157 9161 9173 9181 9187 9199 9203 9209 9221 9227 9239 9241 9257 9277 9281 9283 9293 9311 9319 9323 9337 9341 9343 9349 9371 9377 9391 9397 9403 9413 9419 9421 9431 9433 9437 9439 9461 9463 9467 9473 9479 9491 9497 9511 9521 9533 9539 9547 9551 9587 9601 9613 9619 9623 9629 9631 9643 9649 9661 9677 9679 9689 9697 9719 9721 9733 9739 9743 9749 9767 9769 9781 9787 9791 9803 9811 9817 9829 9833 9839 9851 9857 9859 9871 9883 9887 9901 9907 9923 9929 9931 9941 9949 9967 9973\n",
            "Sum of Prime numbers  5736396\n"
          ],
          "name": "stdout"
        }
      ]
    },
    {
      "cell_type": "markdown",
      "metadata": {
        "id": "sQoqTA61TWQE"
      },
      "source": [
        "\n",
        "A program in which each new term in fibonacci series generated by adding the previous 2 terms"
      ]
    },
    {
      "cell_type": "code",
      "metadata": {
        "colab": {
          "base_uri": "https://localhost:8080/"
        },
        "id": "dKvh8oQEUByr",
        "outputId": "cb736638-6886-4331-f2fe-66c8fa28df9a"
      },
      "source": [
        "number=int(input(\"enter value of number=\")) \n",
        "a=0 \n",
        "b=1\n",
        "c=a+b\n",
        "while c<number:\n",
        "  print(c,end=' ') \n",
        "  a=b\n",
        "  b=c\n",
        "  c=a+b"
      ],
      "execution_count": null,
      "outputs": [
        {
          "output_type": "stream",
          "text": [
            "enter value of number=100\n",
            "1 2 3 5 8 13 21 34 55 89 "
          ],
          "name": "stdout"
        }
      ]
    },
    {
      "cell_type": "markdown",
      "metadata": {
        "id": "1fhEpng-UUtK"
      },
      "source": [
        "By considering the terms in fibonacci sequence whose values do not exceed four million find the sum of even valued terms"
      ]
    },
    {
      "cell_type": "code",
      "metadata": {
        "colab": {
          "base_uri": "https://localhost:8080/"
        },
        "id": "hOJnzr10XXe3",
        "outputId": "7ecee59e-9765-4b85-a4c5-08d316851db7"
      },
      "source": [
        "num=int(input(\"enter value=\"))\n",
        "a=0\n",
        "b=1\n",
        "c=a+b\n",
        "s=0\n",
        "print(\"even numbers =\",end=' ')\n",
        "while c<=num:\n",
        "  if c%2==0:\n",
        "    print(c,end=' ')\n",
        "    s+=c\n",
        "  a=b\n",
        "  b=c\n",
        "  c=a+b\n",
        "print(\"\\nsum of fibonnacci series=\",s)"
      ],
      "execution_count": null,
      "outputs": [
        {
          "output_type": "stream",
          "text": [
            "enter value=4000000\n",
            "even numbers = 2 8 34 144 610 2584 10946 46368 196418 832040 3524578 \n",
            "sum of fibonnacci series= 4613732\n"
          ],
          "name": "stdout"
        }
      ]
    },
    {
      "cell_type": "markdown",
      "metadata": {
        "id": "MVxWnzDfW4CH"
      },
      "source": [
        "#                                       EXCERCISE-5\n",
        " write a program to count the number of charecters in the string and store them in a dictonaray data structure"
      ]
    },
    {
      "cell_type": "code",
      "metadata": {
        "colab": {
          "base_uri": "https://localhost:8080/"
        },
        "id": "donkgcpkXOw1",
        "outputId": "9805ecc5-dc7e-4f37-bf8d-99912443e2a2"
      },
      "source": [
        "name=input(\"enter name:\")\n",
        "dic={}\n",
        "  \n",
        "for ch in name:\n",
        "  keys=dic.keys()\n",
        "  \n",
        "  if(ch in keys):\n",
        "     dic[ch]-dic[ch]+1 \n",
        "  else:\n",
        "    dic[ch]=1 \n",
        "  \n",
        "print(\"dictionary is\",dic)"
      ],
      "execution_count": null,
      "outputs": [
        {
          "output_type": "stream",
          "text": [
            "enter name:keerthisupraja\n",
            "dictionary is {'k': 1, 'e': 1, 'r': 1, 't': 1, 'h': 1, 'i': 1, 's': 1, 'u': 1, 'p': 1, 'a': 1, 'j': 1}\n"
          ],
          "name": "stdout"
        }
      ]
    },
    {
      "cell_type": "markdown",
      "metadata": {
        "id": "2q2dO217X_dO"
      },
      "source": [
        "write a program to split and join methods in a string and trace a birthdaywith dictionary data structure"
      ]
    },
    {
      "cell_type": "code",
      "metadata": {
        "colab": {
          "base_uri": "https://localhost:8080/"
        },
        "id": "LwS0u3YJYUbP",
        "outputId": "899926d8-1a08-4f91-e892-ceafd705d2ee"
      },
      "source": [
        "dob={\"keerthi\":\"25-jan-2002\",\"radha\":\"01-agust-1999\"}\n",
        "name=input(\"Enter person name= \")\n",
        "  \n",
        "l=name.split()\n",
        "birth=\"\"\n",
        "\n",
        "for i in l: \n",
        "  if i in dob.keys():\n",
        "    pers=i\n",
        "print(\"\".join([pers,\"Birthday is \",dob[pers]]))"
      ],
      "execution_count": null,
      "outputs": [
        {
          "output_type": "stream",
          "text": [
            "Enter person name= keerthi\n",
            "keerthiBirthday is 25-jan-2002\n"
          ],
          "name": "stdout"
        }
      ]
    },
    {
      "cell_type": "markdown",
      "metadata": {
        "id": "1qUPIm47Y6Vi"
      },
      "source": [
        "#                                          EXCERCISE-6\n",
        "A.write a program combine lists that combines listst into dictonary"
      ]
    },
    {
      "cell_type": "code",
      "metadata": {
        "colab": {
          "base_uri": "https://localhost:8080/"
        },
        "id": "x2cFiuauAzAg",
        "outputId": "381a44a6-d39b-4fe5-f050-59224f9d5192"
      },
      "source": [
        "subject=[\"DAA\",\"OS\",\"DBMS\",\"P&S\",\"PPL\",\"SE\"]\n",
        "marks=[94,98,99,95,97,96]\n",
        "print(\"given lists are:\")\n",
        "print(\"Subject name=\",subject)\n",
        "print(\"marks=\",marks)\n",
        "d=dict(zip(subject,marks))\n",
        "print(\"dictonary=\",d)\n"
      ],
      "execution_count": null,
      "outputs": [
        {
          "output_type": "stream",
          "text": [
            "given lists are:\n",
            "Subject name= ['DAA', 'OS', 'DBMS', 'P&S', 'PPL', 'SE']\n",
            "marks= [94, 98, 99, 95, 97, 96]\n",
            "dictonary= {'DAA': 94, 'OS': 98, 'DBMS': 99, 'P&S': 95, 'PPL': 97, 'SE': 96}\n"
          ],
          "name": "stdout"
        }
      ]
    },
    {
      "cell_type": "markdown",
      "metadata": {
        "id": "MMutOWdgCQdB"
      },
      "source": [
        "B.write a program to found the frquency of charecters in the given file .can you use charecter frequency to tell whether the given file is python program file or a text file or a c program file "
      ]
    },
    {
      "cell_type": "code",
      "metadata": {
        "id": "qqe1F_P6Ecw5"
      },
      "source": [
        "ftype=['.py','.c','.txt']\n",
        "fn=input(\"enter the file name\")\n",
        "f=open(fn,\"r\")\n",
        "count=dict()\n",
        "print(\"given file  is\",end=\" \")\n",
        "for ft in ftype:\n",
        "  if(ft in fn):\n",
        "    if(ft=='.py'):\n",
        "      print(\"python file\")\n",
        "    elif(ft=='.c'):\n",
        "      print(\"c file\")\n",
        "    else:\n",
        "      print(\"txt file\")\n",
        "for line in f:\n",
        "  for ch in line:\n",
        "    if ch in count:\n",
        "      count[ch]=count[ch]+1\n",
        "    else:\n",
        "      count[ch]=1\n",
        "print(count)\n",
        "f.close()"
      ],
      "execution_count": null,
      "outputs": []
    },
    {
      "cell_type": "markdown",
      "metadata": {
        "id": "GX41rNPDAQKQ"
      },
      "source": [
        "# EXCERCISE-7\n",
        "A.write a program to print each line of the file in reverse order"
      ]
    },
    {
      "cell_type": "code",
      "metadata": {
        "id": "KN7gUQ5uBbKT"
      },
      "source": [
        "obj=open(\"abc.txt\",\"r\")\n",
        "if obj:\n",
        "  st=obj.read()\n",
        "  print(\"file content is :\\n\",st)\n",
        "obj.close()\n",
        "\n",
        "print()\n",
        "lines=st.split(\"\\n\")\n",
        "for ln in lines:\n",
        "  i=len(ln)-1\n",
        "  while(i>=0):\n",
        "    print(ln[i],end='')\n",
        "    i=i-1\n",
        "  print()"
      ],
      "execution_count": null,
      "outputs": []
    },
    {
      "cell_type": "markdown",
      "metadata": {
        "id": "kp4z3n_PBeE-"
      },
      "source": [
        "B.write a progeram to count the number of charecters,words and lines in a files"
      ]
    },
    {
      "cell_type": "code",
      "metadata": {
        "id": "3iIxyPSnCMPp"
      },
      "source": [
        "nc=nw=nl=0\n",
        "file=open(\"abc.txt\",\"r\")\n",
        "nl=nw=nc=0\n",
        "print(\"file content :\\n\")\n",
        "for line in file:\n",
        "  ln=line.strip(\"\\n\")\n",
        "  print(ln)\n",
        "  words=ln.split()\n",
        "  nl+=1\n",
        "  nw+=len(word)\n",
        "  nc+=len(line)\n",
        "file.close()\n",
        "print(\"\\n No of lines\",nl,\"words\",nw,\"character\",nc)\n"
      ],
      "execution_count": null,
      "outputs": []
    },
    {
      "cell_type": "markdown",
      "metadata": {
        "id": "fT8SB83-0KJN"
      },
      "source": [
        "##                                           EXCERCISE-8\n",
        "A.write a function ball collides that takes two balls as parameters and computes if they are coliding.your function should return a boolean representing whether colliding or not                                           "
      ]
    },
    {
      "cell_type": "code",
      "metadata": {
        "colab": {
          "base_uri": "https://localhost:8080/"
        },
        "id": "vwAnSNQw7p0a",
        "outputId": "e33b80d7-6401-4333-b2e3-9c52c99f6d25"
      },
      "source": [
        "import math\n",
        "def collide(ball_tup1,ball_tup2):\n",
        "  x1,y1,r1=ball_tup1\n",
        "  x2,y2,r2=ball_tup2\n",
        "  print(\"Ball1=\",ball_tup1)\n",
        "  print(\"Ball1=\",ball_tup2)\n",
        "\n",
        "  d=math.sqrt((x2-x1)**2+(y2-y1)**2)\n",
        "  print(\"Centroid distance=\",d)\n",
        "  print(\"sum of radius ball1 and ball2={}+{}={}\".format(r1,r2,r1+r2))\n",
        "\n",
        "  if d<=r1+r2:\n",
        "    return True\n",
        "  else:\n",
        "    return False\n",
        "b1=(2,-4,-3)\n",
        "b2=(5,8,10)\n",
        "\n",
        "if collide(b1,b2):\n",
        "  print(\"Balls are colide\")\n",
        "else:\n",
        "  print(\"Balls are  not colide\")\n",
        "\n"
      ],
      "execution_count": null,
      "outputs": [
        {
          "output_type": "stream",
          "text": [
            "Ball1= (2, -4, -3)\n",
            "Ball1= (5, 8, 10)\n",
            "Centroid distance= 12.36931687685298\n",
            "sum of radius ball1 and ball2=-3+10=7\n",
            "Balls are  not colide\n"
          ],
          "name": "stdout"
        }
      ]
    },
    {
      "cell_type": "markdown",
      "metadata": {
        "id": "1ou3I6ML-XbK"
      },
      "source": [
        "B.find mean,mode and for the given set of numbers in the list"
      ]
    },
    {
      "cell_type": "code",
      "metadata": {
        "id": "u_5cuXzyanOs"
      },
      "source": [
        "def list_mean(num_list):\n",
        " return sum(num_list)/len(num_list) \n",
        "def list_median(num_list): \n",
        "  num_list.sort()\n",
        "  n=len(num_list)\n",
        "  mid=n/2\n",
        "  if (n%2==1):\n",
        "    return num_list[mid]\n",
        "  else:\n",
        "    mid\n",
        "    return (num_list[mid-1]+num_list[mid])/2\n",
        "\n",
        "def list_mode(num_list):\n",
        "  num_list.sort()\n",
        "  temp=[]\n",
        "\n",
        "  i=0\n",
        "  while i<len(num_list):\n",
        "    temp.append(num_list.count(num_list[i]))\n",
        "    i+=1\n",
        "\n",
        "  dic=dict(zip(num_list,temp))\n",
        "  mode={k for(k,v) in dic.items() if v==max(temp)}\n",
        "  return mode\n",
        "  \n",
        "lst=[1,1,2,2,2,3,4,5,3]\n",
        "\n",
        "\n",
        "print(\"Given list is:\",lst)\n",
        "print(\"Mean of given list is:\",list_mean(lst))\n",
        "print(\"Median of given list is:\",list_median(lst))\n",
        "print(\"Mode of given list is:\",list_mode(lst))\n"
      ],
      "execution_count": null,
      "outputs": []
    },
    {
      "cell_type": "markdown",
      "metadata": {
        "id": "VfQewQlJznjH"
      },
      "source": [
        "#                                       EXCERCISE-9\n",
        "A.write a function nearly equal to test whether two strings are nearly equal or not.two strings are nearly a and b are equal when a can be generated by single mutation on b"
      ]
    },
    {
      "cell_type": "code",
      "metadata": {
        "colab": {
          "base_uri": "https://localhost:8080/"
        },
        "id": "yNRHtwJA03W1",
        "outputId": "a6b28929-d92b-4bd3-cfa9-dcc2269336ac"
      },
      "source": [
        "def nearly_eq(str1,str2):\n",
        "  count=0\n",
        "  i=j=0\n",
        "  while(i<len(str1) and j<len(str2)):\n",
        "   if (str1[i]!=str2[j]):\n",
        "      count+=1\n",
        "      if(len(str1)>len(str2)):\n",
        "        i+=1\n",
        "      elif(len(str1)-len(str2)):\n",
        "         pass\n",
        "      else:\n",
        "         i-=1\n",
        "   if(count>1):\n",
        "     return False\n",
        "   i+=1\n",
        "   j+=1\n",
        "  if(count<2):\n",
        "   return True\n",
        "\n",
        "strl=input(\"Enter String1: \")\n",
        "str2=input(\"Enter String2: \")\n",
        "bln=nearly_eq(strl,str2)\n",
        "if(bln):\n",
        "   print(\"Strings are nearly equal.\")\n",
        "else:\n",
        "   print(\"String are NOT equal.\")"
      ],
      "execution_count": null,
      "outputs": [
        {
          "output_type": "stream",
          "text": [
            "Enter String1: keerthi\n",
            "Enter String2: keerthi\n",
            "Strings are nearly equal.\n"
          ],
          "name": "stdout"
        }
      ]
    },
    {
      "cell_type": "markdown",
      "metadata": {
        "id": "KM-cIidn2q3i"
      },
      "source": [
        "B.write a function dup to find all duplicates in the list"
      ]
    },
    {
      "cell_type": "code",
      "metadata": {
        "colab": {
          "base_uri": "https://localhost:8080/"
        },
        "id": "eXryY1WK6Nde",
        "outputId": "8fc42111-75cb-46f1-941e-2aab9e43966c"
      },
      "source": [
        "def dups(numlist):\n",
        "  temp=[]\n",
        "  for i in numlist:\n",
        "    cnt=numlist.count(i)\n",
        "    if(cnt>1 and (i not in temp)):\n",
        "       temp.append(i)\n",
        "  print(\"Duplicates in the list: \",temp) \n",
        "lst=[1,2,3,5,6,1,1,2,2,4,4,4]\n",
        "print(\"Given elements in the list: \",lst)\n",
        "dups(lst)"
      ],
      "execution_count": null,
      "outputs": [
        {
          "output_type": "stream",
          "text": [
            "Given elements in the list:  [1, 2, 3, 5, 6, 1, 1, 2, 2, 4, 4, 4]\n",
            "Duplicates in the list:  [1, 2, 4]\n"
          ],
          "name": "stdout"
        }
      ]
    },
    {
      "cell_type": "markdown",
      "metadata": {
        "id": "i9oj6TMy8QbV"
      },
      "source": [
        "C.write a function unique to find all unique elemnts of a list"
      ]
    },
    {
      "cell_type": "code",
      "metadata": {
        "colab": {
          "base_uri": "https://localhost:8080/"
        },
        "id": "HukJO6aw8hnA",
        "outputId": "ca1b8c66-e91e-4da5-9980-35668c7ef5ed"
      },
      "source": [
        "def unique(numlist):\n",
        "  temp=[]\n",
        "  for i in numlist:\n",
        "    cnt=numlist.count(i)\n",
        "    if cnt==1:\n",
        "      temp.append(i)\n",
        "  print(\"unique elemnts in list:\",temp)\n",
        "lst=[1,2,20,9,10,4,5,2,1]\n",
        "print(\"given elemnts in the list:\",lst)\n",
        "unique(lst)"
      ],
      "execution_count": null,
      "outputs": [
        {
          "output_type": "stream",
          "text": [
            "given elemnts in the list: [1, 2, 20, 9, 10, 4, 5, 2, 1]\n",
            "unique elemnts in list: [20, 9, 10, 4, 5]\n"
          ],
          "name": "stdout"
        }
      ]
    },
    {
      "cell_type": "markdown",
      "metadata": {
        "id": "rVNqDByae8C2"
      },
      "source": [
        "#                                           EXCERCISE-10\n",
        "A.write a function cumulative product to compute cummulative product of list of numbers."
      ]
    },
    {
      "cell_type": "code",
      "metadata": {
        "colab": {
          "base_uri": "https://localhost:8080/"
        },
        "id": "6SjE0yDclhNR",
        "outputId": "a7435a04-8790-4b25-a1da-715e879bd896"
      },
      "source": [
        "def cum_pro(numlist):\n",
        "  pro=1\n",
        "  temp=[]\n",
        "  for i in  numlist:\n",
        "    pro*=i\n",
        "    temp.append(pro)\n",
        "  return temp\n",
        "lst=[2,4,3,5,6]\n",
        "print(\"list=\",lst)\n",
        "print(\"cumulative product=\",cum_pro(lst))\n"
      ],
      "execution_count": null,
      "outputs": [
        {
          "output_type": "stream",
          "text": [
            "list= [2, 4, 3, 5, 6]\n",
            "cumulative product= [2, 8, 24, 120, 720]\n"
          ],
          "name": "stdout"
        }
      ]
    },
    {
      "cell_type": "markdown",
      "metadata": {
        "id": "kdwzCPpsmcM-"
      },
      "source": [
        "B.write a function reverse to reverse a list,without using reverse function"
      ]
    },
    {
      "cell_type": "code",
      "metadata": {
        "colab": {
          "base_uri": "https://localhost:8080/"
        },
        "id": "LtXG63FkmxCZ",
        "outputId": "3e25c375-b5f6-4d84-afeb-d4fb83406f03"
      },
      "source": [
        "def rev_lst(numlist):\n",
        "  i=0\n",
        "  j=len(numlist)-1\n",
        "  while(i<=j):\n",
        "    temp=numlist[i]\n",
        "    numlist[i]=numlist[j]\n",
        "    numlist[j]=temp\n",
        "    j-=1\n",
        "    i+=1\n",
        "  return numlist\n",
        "lst=[10,20,30,40,50]\n",
        "print(\"list=\",lst)\n",
        "rev_lst(lst)\n",
        "print(\"reverse list=\",lst)"
      ],
      "execution_count": null,
      "outputs": [
        {
          "output_type": "stream",
          "text": [
            "list= [10, 20, 30, 40, 50]\n",
            "reverse list= [50, 40, 30, 20, 10]\n"
          ],
          "name": "stdout"
        }
      ]
    },
    {
      "cell_type": "markdown",
      "metadata": {
        "id": "_LOLLOICnnWO"
      },
      "source": [
        "C.write a function to compute gcd,lcm of two numbers each function shouldnot exceed one line"
      ]
    },
    {
      "cell_type": "code",
      "metadata": {
        "colab": {
          "base_uri": "https://localhost:8080/"
        },
        "id": "JrSU2-jcn3Gd",
        "outputId": "9bfc7201-1036-4fe6-ee56-9e25c62c777f"
      },
      "source": [
        "gcd=lambda a,b:a if b==0 else gcd(a,a%b)\n",
        "lcm=lambda a,b:(a*b)/gcd(a,b)\n",
        "x=5\n",
        "y=25\n",
        "print(\"Given numbers=\",x,y)\n",
        "print(\"GCD=\",gcd(x,y))\n",
        "print(\"LCM=\",lcm(x,y))"
      ],
      "execution_count": null,
      "outputs": [
        {
          "output_type": "stream",
          "text": [
            "Given numbers= 5 25\n",
            "GCD= 5\n",
            "LCM= 25.0\n"
          ],
          "name": "stdout"
        }
      ]
    },
    {
      "cell_type": "markdown",
      "metadata": {
        "id": "wF-fAsQiLrOw"
      },
      "source": [
        "# EXCERCISE-11\n",
        "*A.write a program that defines a matrix and prints.*"
      ]
    },
    {
      "cell_type": "code",
      "metadata": {
        "colab": {
          "base_uri": "https://localhost:8080/"
        },
        "id": "Kq-g-1rGMWiE",
        "outputId": "56ebef32-ad8e-40b6-9e7f-21c594daac24"
      },
      "source": [
        "mataA=[[]]\n",
        "rows=int(input(\"Enter row size= \"))\n",
        "cols=int(input(\"Enter column size= \"))\n",
        "\n",
        "matA=[[int(input(\"enter [%d,%d]value:\"%(i,j)))for j in range(cols)]for i in range(rows)]\n",
        "\n",
        "print(\"matrix is\")\n",
        "for i in range(rows):\n",
        " for j in range(cols):\n",
        "     print(matA[i][j],end='\\t')\n",
        " print()"
      ],
      "execution_count": null,
      "outputs": [
        {
          "output_type": "stream",
          "text": [
            "Enter row size= 3\n",
            "Enter column size= 3\n",
            "enter [0,0]value:1\n",
            "enter [0,1]value:2\n",
            "enter [0,2]value:3\n",
            "enter [1,0]value:4\n",
            "enter [1,1]value:5\n",
            "enter [1,2]value:6\n",
            "enter [2,0]value:7\n",
            "enter [2,1]value:8\n",
            "enter [2,2]value:9\n",
            "matrix is\n",
            "1\t2\t3\t\n",
            "4\t5\t6\t\n",
            "7\t8\t9\t\n"
          ],
          "name": "stdout"
        }
      ]
    },
    {
      "cell_type": "markdown",
      "metadata": {
        "id": "HZeDmT4HNIMe"
      },
      "source": [
        "*B.write a program to perform addition of two square matrices.*"
      ]
    },
    {
      "cell_type": "code",
      "metadata": {
        "colab": {
          "base_uri": "https://localhost:8080/"
        },
        "id": "WCw0m64hNUkQ",
        "outputId": "50333ee7-473d-44bd-fb7d-0a3f9dd54dba"
      },
      "source": [
        "def matRead(r,c):\n",
        "  return[[int(input(\"[%d,%d] value:\"%(i,j)))for j in range(c)]for i in range(r)]\n",
        "def matDisp(mat,r,c):\n",
        "  for i in range(r):\n",
        "    for j in range(c):\n",
        "      print(mat[i][j],end='\\t')\n",
        "    print()\n",
        "matA=[[]]\n",
        "matB=[[]]\n",
        "matSum=[[]]\n",
        "rows=int(input(\"Enter row size=\"))\n",
        "cols=int(input(\"Enter column size=\"))\n",
        "if rows==cols:\n",
        "  print(\"enter A elements:\")\n",
        "  matA=matRead(rows,cols)\n",
        "\n",
        "  print(\"enter B elements:\")\n",
        "  matB=matRead(rows,cols)\n",
        "\n",
        "  print(\"Matric-A is:\")\n",
        "  matDisp(matA,rows,cols)\n",
        "\n",
        "  print(\"Matric-B is:\")\n",
        "  matDisp(matB,rows,cols)\n",
        "\n",
        "  matSum=[[matA[i][j]+matB[i][j] for j in range(cols)] for i in range (rows)]\n",
        "  print(\"Sum of matrices is:\")\n",
        "  matDisp(matSum,rows,cols)\n",
        "else:\n",
        "  print(\"Matrices addition is not possible\")"
      ],
      "execution_count": null,
      "outputs": [
        {
          "output_type": "stream",
          "text": [
            "Enter row size=2\n",
            "Enter column size=2\n",
            "enter A elements:\n",
            "[0,0] value:1\n",
            "[0,1] value:2\n",
            "[1,0] value:3\n",
            "[1,1] value:4\n",
            "enter B elements:\n",
            "[0,0] value:5\n",
            "[0,1] value:6\n",
            "[1,0] value:7\n",
            "[1,1] value:8\n",
            "Matric-A is:\n",
            "1\t2\t\n",
            "3\t4\t\n",
            "Matric-B is:\n",
            "5\t6\t\n",
            "7\t8\t\n",
            "Sum of matrices is:\n",
            "6\t8\t\n",
            "10\t12\t\n"
          ],
          "name": "stdout"
        }
      ]
    },
    {
      "cell_type": "markdown",
      "metadata": {
        "id": "7908Ttq-RxY0"
      },
      "source": [
        "*C.write a program to perform multiplication of two square matrices*"
      ]
    },
    {
      "cell_type": "code",
      "metadata": {
        "colab": {
          "base_uri": "https://localhost:8080/"
        },
        "id": "GkB4vZH2TDB3",
        "outputId": "e6300bc0-98b2-42df-d3f6-d5b940b5d086"
      },
      "source": [
        "def matRead(r,c):\n",
        "  return[[int(input(\"[%d,%d] value:\"%(i,j)))for j in range(c)]for i in range(r)]\n",
        "def matDisp(mat,r,c):\n",
        "  for i in range(r):\n",
        "   for j in range(c):\n",
        "    print(mat[i][j],end='\\t')\n",
        "   print()\n",
        "\n",
        "matA=[[]]\n",
        "matB=[[]]\n",
        "matSum=[[]]\n",
        "rows=int(input(\"Enter row size=\"))\n",
        "cols=int(input(\"Enter col size=\"))\n",
        "if rows==cols:\n",
        "  print(\"Enter A elements=\")\n",
        "  matA=matRead(rows,cols)\n",
        "\n",
        "  print(\"Enter B elements=\")\n",
        "  matB=matRead(rows,cols)\n",
        "\n",
        "  print(\" Matrix A Is\")\n",
        "  matDisp(matA,rows,cols)\n",
        "\n",
        "  print(\" Matrix B Is\")\n",
        "  matDisp(matB,rows,cols)\n",
        "\n",
        "  matSum=[[matA[i][j]+matB[i][j] for j in range(cols)] for i in range (rows)]\n",
        "\n",
        "  print(\"Sum of matrix\")\n",
        "  matDisp(matSum,rows,cols)\n",
        "else:\n",
        "  print(\"Matrices addition is not possible\")\n"
      ],
      "execution_count": null,
      "outputs": [
        {
          "output_type": "stream",
          "text": [
            "Enter row size=2\n",
            "Enter col size=2\n",
            "Enter A elements=\n",
            "[0,0] value:1\n",
            "[0,1] value:2\n",
            "[1,0] value:3\n",
            "[1,1] value:4\n",
            "Enter B elements=\n",
            "[0,0] value:5\n",
            "[0,1] value:6\n",
            "[1,0] value:7\n",
            "[1,1] value:8\n",
            " Matrix A Is\n",
            "1\t2\t\n",
            "3\t4\t\n",
            " Matrix B Is\n",
            "5\t6\t\n",
            "7\t8\t\n",
            "Sum of matrix\n",
            "6\t8\t\n",
            "10\t12\t\n"
          ],
          "name": "stdout"
        }
      ]
    },
    {
      "cell_type": "markdown",
      "metadata": {
        "id": "lAwPHazu3o76"
      },
      "source": [
        "# EXCERCISE-12\n",
        "Write a script that imports the requests and fettch content from page "
      ]
    },
    {
      "cell_type": "code",
      "metadata": {
        "id": "OSyeLJm14AqZ"
      },
      "source": [
        "import requests\n",
        "r=requests.get('https://www.google.com')\n",
        "\n",
        "print(\"status code:\",r.status_code)\n",
        "\n",
        "print(\"header content:\",r.headers['content-type'])\n",
        "\n",
        "print(r.text)"
      ],
      "execution_count": null,
      "outputs": []
    },
    {
      "cell_type": "markdown",
      "metadata": {
        "id": "CYA_McBU4-CB"
      },
      "source": [
        "Write a simple script that serves a asimple HTTPR response and a simple HTML page"
      ]
    },
    {
      "cell_type": "code",
      "metadata": {
        "id": "dRDf62JJ5LQj"
      },
      "source": [
        "from flask import Flask,render_template\n",
        "app=Flask(_name_)\n",
        "print(app)\n",
        "@app.route(\"/\")\n",
        "def main():\n",
        "  return render_template('login.html')\n",
        "\n",
        "if_name==\"main_\":\n",
        "  app.run(host=\"127.0.0.1\",port=2500)"
      ],
      "execution_count": null,
      "outputs": []
    },
    {
      "cell_type": "markdown",
      "metadata": {
        "id": "2mzBla6JGbtL"
      },
      "source": [
        "# EXCERCISE-13\n",
        "*A.class variables and instance variable and illustration of the self-variable*"
      ]
    },
    {
      "cell_type": "code",
      "metadata": {
        "colab": {
          "base_uri": "https://localhost:8080/"
        },
        "id": "ACXCR3DoGvLq",
        "outputId": "5e9decfd-3a12-4698-d457-fcd9c227de11"
      },
      "source": [
        "class Robot:\n",
        "  What=\"Machine\"\n",
        "  name=\"chinni\"\n",
        "  version=1.0\n",
        "  speed=\"1THz\"\n",
        "  memory=\"1ZB\"\n",
        "\n",
        "  def update(upd):\n",
        "    upd.version=2.0\n",
        "    upd.speed=\"2THz\"\n",
        "    upd.memory=\"2ZB\"\n",
        "\n",
        "  \n",
        "  def disp(self):\n",
        "    print(\"Myself is:\",robj.What)\n",
        "    print(\"Myname is:\",robj.name)\n",
        "    print(\"version:\",robj.version)\n",
        "    print(\"speed:\",robj.speed)\n",
        "    print(\"Memory:\",robj.memory)\n",
        "    \n",
        "\n",
        " \n",
        "robj=Robot()\n",
        "robj.disp()\n",
        "\n",
        "print(\"--------------UPDATE---------------\")\n",
        "robj.update()\n",
        "robj.disp()\n",
        "  \n"
      ],
      "execution_count": null,
      "outputs": [
        {
          "output_type": "stream",
          "text": [
            "Myself is: Machine\n",
            "Myname is: chinni\n",
            "version: 1.0\n",
            "speed: 1THz\n",
            "Memory: 1ZB\n",
            "--------------UPDATE---------------\n",
            "Myself is: Machine\n",
            "Myname is: chinni\n",
            "version: 2.0\n",
            "speed: 2THz\n",
            "Memory: 2ZB\n"
          ],
          "name": "stdout"
        }
      ]
    },
    {
      "cell_type": "markdown",
      "metadata": {
        "id": "tTgoqKV5J7oe"
      },
      "source": [
        "B.*ATM* *machine*"
      ]
    },
    {
      "cell_type": "code",
      "metadata": {
        "colab": {
          "base_uri": "https://localhost:8080/"
        },
        "id": "JQkV3GjtKDbs",
        "outputId": "20b1455a-bc54-4c1a-9d5e-7b7e9a82c71c"
      },
      "source": [
        "class Atm:\n",
        "    def __init__(self):\n",
        "       self.balance=0\n",
        "       \n",
        "    def enquire(self):\n",
        "       print(\"balance\",self.balance)\n",
        "       \n",
        "    def deposit(self):\n",
        "       amount=int(input(\"Enter deposite amount=\"))\n",
        "       self.balance+=amount\n",
        "       self.enquire()\n",
        "\n",
        "    def withdraw(self):\n",
        "       amount=int(input(\"Enter withdraw amount=\"))\n",
        "       if self.balance<amount:\n",
        "        print(\"Insufficient balance\")\n",
        "       else:\n",
        "        self.balance-=amount\n",
        "        self.enquire()\n",
        "\n",
        "aobj=Atm()\n",
        "while(True):\n",
        "    print(\"----------Menu----------\")\n",
        "    print(\"1.Deposite\")\n",
        "    print(\"2.Withdraw\")\n",
        "    print(\"3.Balance\")\n",
        "    print(\"0.Exit\")\n",
        "\n",
        "    ch=int(input(\"Enter your choice=\"))\n",
        "\n",
        "    if ch==0:\n",
        "        break\n",
        "    elif ch==1:\n",
        "        aobj.deposit()\n",
        "    elif ch==2:\n",
        "        aobj.withdraw()\n",
        "    elif ch==3:\n",
        "        aobj.enquire()\n",
        "    else:\n",
        "        print(\"Invalid choice\")\n",
        "        pass"
      ],
      "execution_count": null,
      "outputs": [
        {
          "output_type": "stream",
          "text": [
            "----------Menu----------\n",
            "1.Deposite\n",
            "2.Withdraw\n",
            "3.Balance\n",
            "0.Exit\n",
            "Enter your choice=1\n",
            "Enter deposite amount=100\n",
            "balance 100\n",
            "----------Menu----------\n",
            "1.Deposite\n",
            "2.Withdraw\n",
            "3.Balance\n",
            "0.Exit\n",
            "Enter your choice=1\n",
            "Enter deposite amount=1000\n",
            "balance 1100\n",
            "----------Menu----------\n",
            "1.Deposite\n",
            "2.Withdraw\n",
            "3.Balance\n",
            "0.Exit\n",
            "Enter your choice=2\n",
            "Enter withdraw amount=100\n",
            "balance 1000\n",
            "----------Menu----------\n",
            "1.Deposite\n",
            "2.Withdraw\n",
            "3.Balance\n",
            "0.Exit\n",
            "Enter your choice=0\n"
          ],
          "name": "stdout"
        }
      ]
    }
  ]
}