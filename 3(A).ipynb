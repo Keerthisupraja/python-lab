{
  "nbformat": 4,
  "nbformat_minor": 0,
  "metadata": {
    "colab": {
      "name": "3(A)",
      "provenance": [],
      "authorship_tag": "ABX9TyO3g/hXKa0M/PqDF6Pp6lNV",
      "include_colab_link": true
    },
    "kernelspec": {
      "name": "python3",
      "display_name": "Python 3"
    },
    "language_info": {
      "name": "python"
    }
  },
  "cells": [
    {
      "cell_type": "markdown",
      "metadata": {
        "id": "view-in-github",
        "colab_type": "text"
      },
      "source": [
        "<a href=\"https://colab.research.google.com/github/Keerthisupraja/python-lab/blob/main/3(A).ipynb\" target=\"_parent\"><img src=\"https://colab.research.google.com/assets/colab-badge.svg\" alt=\"Open In Colab\"/></a>"
      ]
    },
    {
      "cell_type": "code",
      "metadata": {
        "colab": {
          "base_uri": "https://localhost:8080/"
        },
        "id": "DxHDnYvyZ0BI",
        "outputId": "6dcc8b51-a7b4-453c-8b8e-c820af487e2a"
      },
      "source": [
        "num=int(input(\"Enter a number:\"))\n",
        "if (num%2!=0):\n",
        "  print(num,\"is an odd number\")\n",
        "else:\n",
        "  print(num,\"is an even number\")"
      ],
      "execution_count": 2,
      "outputs": [
        {
          "output_type": "stream",
          "text": [
            "Enter a number:1\n",
            "1 is an odd number\n"
          ],
          "name": "stdout"
        }
      ]
    },
    {
      "cell_type": "markdown",
      "metadata": {
        "id": "Vz-IFhvQZ_Bj"
      },
      "source": [
        "to verify whether the given number is even or not"
      ]
    }
  ]
}