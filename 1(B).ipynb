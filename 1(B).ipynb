{
  "nbformat": 4,
  "nbformat_minor": 0,
  "metadata": {
    "colab": {
      "name": "1(B)",
      "provenance": [],
      "authorship_tag": "ABX9TyPmnx9llV0a4ZNhXjHCohcH",
      "include_colab_link": true
    },
    "kernelspec": {
      "name": "python3",
      "display_name": "Python 3"
    },
    "language_info": {
      "name": "python"
    }
  },
  "cells": [
    {
      "cell_type": "markdown",
      "metadata": {
        "id": "view-in-github",
        "colab_type": "text"
      },
      "source": [
        "<a href=\"https://colab.research.google.com/github/Keerthisupraja/python-lab/blob/main/1(B).ipynb\" target=\"_parent\"><img src=\"https://colab.research.google.com/assets/colab-badge.svg\" alt=\"Open In Colab\"/></a>"
      ]
    },
    {
      "cell_type": "code",
      "metadata": {
        "id": "MLY-I_g-VGtn"
      },
      "source": [
        "write a program to purposefully raise an intendation error and correct it"
      ],
      "execution_count": null,
      "outputs": []
    },
    {
      "cell_type": "code",
      "metadata": {
        "id": "Eh_FvbrfVmvc"
      },
      "source": [
        "a=10\n",
        "b=20\n",
        "if a>b:\n",
        "print(\"a is big\")\n",
        "else:\n",
        "print(\"b is big\")\n",
        "\n",
        "#error correction\n",
        "#if a>b:\n",
        "#   print(\"a is big\")\n",
        "#else:\n",
        "#   print(\"b is big\")\n",
        " \n"
      ],
      "execution_count": null,
      "outputs": []
    }
  ]
}