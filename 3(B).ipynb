{
  "nbformat": 4,
  "nbformat_minor": 0,
  "metadata": {
    "colab": {
      "name": "3(B)",
      "provenance": [],
      "authorship_tag": "ABX9TyPM6Dq+2Po/gXn9CMJAPLGB",
      "include_colab_link": true
    },
    "kernelspec": {
      "name": "python3",
      "display_name": "Python 3"
    },
    "language_info": {
      "name": "python"
    }
  },
  "cells": [
    {
      "cell_type": "markdown",
      "metadata": {
        "id": "view-in-github",
        "colab_type": "text"
      },
      "source": [
        "<a href=\"https://colab.research.google.com/github/Keerthisupraja/python-lab/blob/main/3(B).ipynb\" target=\"_parent\"><img src=\"https://colab.research.google.com/assets/colab-badge.svg\" alt=\"Open In Colab\"/></a>"
      ]
    },
    {
      "cell_type": "code",
      "metadata": {
        "colab": {
          "base_uri": "https://localhost:8080/"
        },
        "id": "6hyfRl6saev3",
        "outputId": "8e93dc50-3016-4b29-8ddf-79c78469dc3d"
      },
      "source": [
        "n=int(input(\"enter value of n=\"))\n",
        "for i in range(2,n):\n",
        "\td=1/i\n",
        "\tprint(\"1/\"+str(i)+\"=\",d)"
      ],
      "execution_count": 1,
      "outputs": [
        {
          "output_type": "stream",
          "text": [
            "enter value of n=10\n",
            "1/2= 0.5\n",
            "1/3= 0.3333333333333333\n",
            "1/4= 0.25\n",
            "1/5= 0.2\n",
            "1/6= 0.16666666666666666\n",
            "1/7= 0.14285714285714285\n",
            "1/8= 0.125\n",
            "1/9= 0.1111111111111111\n"
          ],
          "name": "stdout"
        }
      ]
    },
    {
      "cell_type": "markdown",
      "metadata": {
        "id": "AosHoCW-a0rw"
      },
      "source": [
        "using for loop a program to print out the decimal equivalent to 1/2,1/3,1/4....1/10"
      ]
    }
  ]
}