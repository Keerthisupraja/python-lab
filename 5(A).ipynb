{
  "nbformat": 4,
  "nbformat_minor": 0,
  "metadata": {
    "colab": {
      "name": "5(A)",
      "provenance": [],
      "authorship_tag": "ABX9TyMkzVQIjeljolG4RBTSEiAK",
      "include_colab_link": true
    },
    "kernelspec": {
      "name": "python3",
      "display_name": "Python 3"
    },
    "language_info": {
      "name": "python"
    }
  },
  "cells": [
    {
      "cell_type": "markdown",
      "metadata": {
        "id": "view-in-github",
        "colab_type": "text"
      },
      "source": [
        "<a href=\"https://colab.research.google.com/github/Keerthisupraja/python-lab/blob/main/5(A).ipynb\" target=\"_parent\"><img src=\"https://colab.research.google.com/assets/colab-badge.svg\" alt=\"Open In Colab\"/></a>"
      ]
    },
    {
      "cell_type": "code",
      "metadata": {
        "colab": {
          "base_uri": "https://localhost:8080/"
        },
        "id": "ywEqXS3Ij4-X",
        "outputId": "3c55bbae-f080-433b-ca68-fd378979799d"
      },
      "source": [
        "name=input(\"Enter the name:\")\n",
        "dic={}\n",
        "  \n",
        "for ch in name:\n",
        "  keys=dic.keys()\n",
        "  \n",
        "  if(ch in keys):\n",
        "    dic[ch]=dic[ch]+1 \n",
        "  else:\n",
        "    dic[ch]=1 \n",
        "  \n",
        "print(\"Dictionary is\",dic)"
      ],
      "execution_count": 6,
      "outputs": [
        {
          "output_type": "stream",
          "text": [
            "Enter the name:keerthisupraja\n",
            "Dictionary is {'k': 1, 'e': 2, 'r': 2, 't': 1, 'h': 1, 'i': 1, 's': 1, 'u': 1, 'p': 1, 'a': 2, 'j': 1}\n"
          ],
          "name": "stdout"
        }
      ]
    },
    {
      "cell_type": "markdown",
      "metadata": {
        "id": "IwoH7BlWkfk9"
      },
      "source": [
        "A program to count the number of charecters in the string and store them in a dictionary data structure"
      ]
    }
  ]
}