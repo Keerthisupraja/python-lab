{
  "nbformat": 4,
  "nbformat_minor": 0,
  "metadata": {
    "colab": {
      "name": "1(A)",
      "provenance": [],
      "authorship_tag": "ABX9TyMPqWU8lmgbcdG5wefzBkNC",
      "include_colab_link": true
    },
    "kernelspec": {
      "name": "python3",
      "display_name": "Python 3"
    },
    "language_info": {
      "name": "python"
    }
  },
  "cells": [
    {
      "cell_type": "markdown",
      "metadata": {
        "id": "view-in-github",
        "colab_type": "text"
      },
      "source": [
        "<a href=\"https://colab.research.google.com/github/Keerthisupraja/python-lab/blob/main/1(A).ipynb\" target=\"_parent\"><img src=\"https://colab.research.google.com/assets/colab-badge.svg\" alt=\"Open In Colab\"/></a>"
      ]
    },
    {
      "cell_type": "code",
      "metadata": {
        "colab": {
          "base_uri": "https://localhost:8080/"
        },
        "id": "lSRR2oOwnZFD",
        "outputId": "5f8a812b-dda8-440c-d3b3-608b0e79e0b7"
      },
      "source": [
        "print(\"welcome to python\")\n",
        "a=10\n",
        "b=20\n",
        "print(a+b)\n",
        "print(\"Thankyou\")"
      ],
      "execution_count": 3,
      "outputs": [
        {
          "output_type": "stream",
          "text": [
            "welcome to python\n",
            "30\n",
            "Thankyou\n"
          ],
          "name": "stdout"
        }
      ]
    }
  ]
}