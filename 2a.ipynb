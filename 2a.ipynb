{
  "nbformat": 4,
  "nbformat_minor": 0,
  "metadata": {
    "colab": {
      "name": "2a",
      "provenance": [],
      "authorship_tag": "ABX9TyO+9G3ryk+JyrU1kIMSGSTg",
      "include_colab_link": true
    },
    "kernelspec": {
      "name": "python3",
      "display_name": "Python 3"
    },
    "language_info": {
      "name": "python"
    }
  },
  "cells": [
    {
      "cell_type": "markdown",
      "metadata": {
        "id": "view-in-github",
        "colab_type": "text"
      },
      "source": [
        "<a href=\"https://colab.research.google.com/github/Keerthisupraja/python-lab/blob/main/2a.ipynb\" target=\"_parent\"><img src=\"https://colab.research.google.com/assets/colab-badge.svg\" alt=\"Open In Colab\"/></a>"
      ]
    },
    {
      "cell_type": "code",
      "metadata": {
        "id": "HVWX8ASoy8_C"
      },
      "source": [
        ""
      ],
      "execution_count": null,
      "outputs": []
    },
    {
      "cell_type": "code",
      "metadata": {
        "id": "kHjb3ISHy96B"
      },
      "source": [
        "import math\n",
        "a=int(input(\"Enter value of a=\"))\n",
        "b=int(input(\"Enter value of b=\"))\n",
        "c=int(input(\"Enter value of c=\"))\n",
        "d=int(input(\"Enter value of d=\"))\n",
        "distance=math.sqrt(((b-a)**2)+((d-c)**2))\n",
        "print(\"Distance=\",distance)"
      ],
      "execution_count": null,
      "outputs": []
    }
  ]
}