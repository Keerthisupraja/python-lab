{
  "nbformat": 4,
  "nbformat_minor": 0,
  "metadata": {
    "colab": {
      "name": "3(C)",
      "provenance": [],
      "authorship_tag": "ABX9TyPuUGOQkzG9KRt3UlhYS2Ti",
      "include_colab_link": true
    },
    "kernelspec": {
      "name": "python3",
      "display_name": "Python 3"
    },
    "language_info": {
      "name": "python"
    }
  },
  "cells": [
    {
      "cell_type": "markdown",
      "metadata": {
        "id": "view-in-github",
        "colab_type": "text"
      },
      "source": [
        "<a href=\"https://colab.research.google.com/github/Keerthisupraja/python-lab/blob/main/3(C).ipynb\" target=\"_parent\"><img src=\"https://colab.research.google.com/assets/colab-badge.svg\" alt=\"Open In Colab\"/></a>"
      ]
    },
    {
      "cell_type": "code",
      "metadata": {
        "colab": {
          "base_uri": "https://localhost:8080/"
        },
        "id": "4qoKNQqCbv0C",
        "outputId": "da719387-39d9-4804-9138-b8c8a75707c2"
      },
      "source": [
        "array=[10,\"abc\",\"keerthi\",'k',-10,'s',9.8]\n",
        "print(\"array is:\",array)\n",
        "for i in array:\n",
        "\tprint(i)"
      ],
      "execution_count": 2,
      "outputs": [
        {
          "output_type": "stream",
          "text": [
            "array is: [10, 'abc', 'keerthi', 'k', -10, 's', 9.8]\n",
            "10\n",
            "abc\n",
            "keerthi\n",
            "k\n",
            "-10\n",
            "s\n",
            "9.8\n"
          ],
          "name": "stdout"
        }
      ]
    },
    {
      "cell_type": "markdown",
      "metadata": {
        "id": "t_kEqjZ_cVI3"
      },
      "source": [
        "A program using for loop that loops over a sequence"
      ]
    }
  ]
}