{
  "nbformat": 4,
  "nbformat_minor": 0,
  "metadata": {
    "colab": {
      "name": "4(C)",
      "provenance": [],
      "authorship_tag": "ABX9TyMDMsw37wWljjzOJWJJAk8B",
      "include_colab_link": true
    },
    "kernelspec": {
      "name": "python3",
      "display_name": "Python 3"
    },
    "language_info": {
      "name": "python"
    }
  },
  "cells": [
    {
      "cell_type": "markdown",
      "metadata": {
        "id": "view-in-github",
        "colab_type": "text"
      },
      "source": [
        "<a href=\"https://colab.research.google.com/github/Keerthisupraja/python-lab/blob/main/4(C).ipynb\" target=\"_parent\"><img src=\"https://colab.research.google.com/assets/colab-badge.svg\" alt=\"Open In Colab\"/></a>"
      ]
    },
    {
      "cell_type": "code",
      "metadata": {
        "colab": {
          "base_uri": "https://localhost:8080/"
        },
        "id": "nlgdt6TOiGwj",
        "outputId": "e1fbbcf4-bbe7-4350-9cb0-3c25a4b6e169"
      },
      "source": [
        "num=int(input(\"enter value=\"))\n",
        "a=0\n",
        "b=1 \n",
        "c=a+b\n",
        "s=0\n",
        "print(\"even numbers =\",end=' ')\n",
        "while c<=num:\n",
        "  if c%2==0:\n",
        "    print(c,end=' ')\n",
        "    s+=c\n",
        "  a=b\n",
        "  b=c \n",
        "  c=a+b \n",
        "print(\"\\nsum of fibonnacci series=\",s)"
      ],
      "execution_count": 2,
      "outputs": [
        {
          "output_type": "stream",
          "text": [
            "enter value=4000000\n",
            "even numbers = 2 8 34 144 610 2584 10946 46368 196418 832040 3524578 \n",
            "sum of fibonnacci series= 4613732\n"
          ],
          "name": "stdout"
        }
      ]
    }
  ]
}