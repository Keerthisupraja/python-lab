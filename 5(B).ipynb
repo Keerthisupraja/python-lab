{
  "nbformat": 4,
  "nbformat_minor": 0,
  "metadata": {
    "colab": {
      "name": "5(B)",
      "provenance": [],
      "authorship_tag": "ABX9TyPga7VGucWY91azqkrmoBnJ",
      "include_colab_link": true
    },
    "kernelspec": {
      "name": "python3",
      "display_name": "Python 3"
    },
    "language_info": {
      "name": "python"
    }
  },
  "cells": [
    {
      "cell_type": "markdown",
      "metadata": {
        "id": "view-in-github",
        "colab_type": "text"
      },
      "source": [
        "<a href=\"https://colab.research.google.com/github/Keerthisupraja/python-lab/blob/main/5(B).ipynb\" target=\"_parent\"><img src=\"https://colab.research.google.com/assets/colab-badge.svg\" alt=\"Open In Colab\"/></a>"
      ]
    },
    {
      "cell_type": "code",
      "metadata": {
        "colab": {
          "base_uri": "https://localhost:8080/"
        },
        "id": "zLdkbIYFlStc",
        "outputId": "88c40879-1e8f-4112-b0f1-7c472bcdfd27"
      },
      "source": [
        "dob={\"keerthi\":\"25-jan-2002\",\"supraja\":\"01-aug-1999\"}\n",
        "name=input(\"Enter the name of desired pesrson=\")\n",
        "  \n",
        "l=name.split()\n",
        "birth=\" \"\n",
        "for i in l: \n",
        "  if i in dob.keys():\n",
        "    pers=i\n",
        "         \n",
        "print(\"\".join([pers,\"Birthday is \",dob[pers]]))\n",
        "        \n",
        "     \n",
        "         "
      ],
      "execution_count": 6,
      "outputs": [
        {
          "output_type": "stream",
          "text": [
            "Enter the name of desired pesrson=keerthi\n",
            "keerthiBirthday is 25-jan-2002\n"
          ],
          "name": "stdout"
        }
      ]
    }
  ]
}